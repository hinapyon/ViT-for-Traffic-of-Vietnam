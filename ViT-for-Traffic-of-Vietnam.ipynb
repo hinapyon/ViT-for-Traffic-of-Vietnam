{
  "cells": [
    {
      "cell_type": "code",
      "execution_count": 37,
      "metadata": {
        "id": "FIL5JwkLvmgF"
      },
      "outputs": [],
      "source": [
        "#ライブラリをインポート\n",
        "import os #OSに依存する様々な機能を利用するためのモジュール(ファイルやディレクトリ操作など)\n",
        "import re #正規表現を利用するためのモジュール\n",
        "import csv  #csvファイルを扱うためのモジュール\n",
        "import math #数学的計算のためのモジュール\n",
        "import cv2 #画像処理のためのモジュール\n",
        "import matplotlib.pyplot as plt #グラフ描画のためのモジュール\n",
        "import numpy as np  #多次元配列計算のためのモジュール\n",
        "import pandas as pd #データフレームを扱うためのモジュール\n",
        "from scipy import signal  #信号処理のためのモジュール\n",
        "from scipy.stats import skew, kurtosis  #歪度と尖度を調べるためのモジュール\n",
        "from sklearn.model_selection import train_test_split  #データをトレーニング用とテスト用に分けるためのモジュール\n",
        "from sklearn import preprocessing #データを正規化するためのモジュール\n",
        "from sklearn.preprocessing import StandardScaler  #データを標準化するためのモジュール\n",
        "from sklearn.preprocessing import LabelEncoder  #カテゴリ変数を数値化するためのモジュール\n",
        "from sklearn.metrics import accuracy_score, mean_squared_error, mean_absolute_error, r2_score, f1_score, fbeta_score#機械学習モデルの性能評価のためのモジュール\n",
        "import tensorflow as tf #TensorFlow(Googleが開発したオープンソースの機械学習フレームワーク)\n",
        "from tensorflow import keras  #TensorFlow用のニューラルネットワークライブラリAPI\n",
        "from tensorflow.keras import layers #ニューラルネットワークのレイヤーを定義するためのモジュール\n",
        "from keras.utils import np_utils"
      ]
    },
    {
      "cell_type": "code",
      "execution_count": 38,
      "metadata": {
        "id": "uBng5g_POIMN"
      },
      "outputs": [],
      "source": [
        "#メモ\n",
        "#画像のサイズは縦：横=1088:1920=17:30\n",
        "\n",
        "#よく使うgit command\n",
        "#google colabと揃える\n",
        "#git fetch origin main\n",
        "#git reset --hard origin/main"
      ]
    },
    {
      "cell_type": "code",
      "execution_count": 39,
      "metadata": {
        "colab": {
          "base_uri": "https://localhost:8080/"
        },
        "id": "mA1YMpwR6sKj",
        "outputId": "337bb8c8-e3d5-4276-cce2-59877f9845f9"
      },
      "outputs": [
        {
          "name": "stdout",
          "output_type": "stream",
          "text": [
            "Drive already mounted at /content/drive; to attempt to forcibly remount, call drive.mount(\"/content/drive\", force_remount=True).\n"
          ]
        }
      ],
      "source": [
        "#自分のGoogle Driveとドッキング\n",
        "from google.colab import drive\n",
        "drive.mount('/content/drive')"
      ]
    },
    {
      "cell_type": "code",
      "execution_count": 40,
      "metadata": {
        "colab": {
          "base_uri": "https://localhost:8080/"
        },
        "id": "mLiR9zG46pL4",
        "outputId": "38267b6a-aad4-495e-a84d-3334ef91eceb"
      },
      "outputs": [
        {
          "name": "stdout",
          "output_type": "stream",
          "text": [
            "Found GPU at: /device:GPU:0\n"
          ]
        }
      ],
      "source": [
        "#GPUを使うための処理\n",
        "import tensorflow as tf\n",
        "device_name = tf.test.gpu_device_name()\n",
        "if device_name != '/device:GPU:0':\n",
        "  raise SystemError('GPU device not found')\n",
        "print('Found GPU at: {}'.format(device_name))"
      ]
    },
    {
      "cell_type": "code",
      "execution_count": 41,
      "metadata": {
        "id": "y4I8paPHeKog"
      },
      "outputs": [],
      "source": [
        "#マクロの定義\n",
        "N = 1 #Encoderの層の数\n",
        "NUM_HEADS = 8 #アテンションヘッドの数\n",
        "KEY_DIM = 30  #キー次元\n",
        "DROPOUT = 0.1 #ドロップアウト率\n",
        "LENGTH = 240  #リサイズ後の画像の横の長さ\n",
        "HEIGHT = 136  #リサイズ後の画像の縦の長さ"
      ]
    },
    {
      "cell_type": "code",
      "execution_count": 42,
      "metadata": {
        "id": "x6tK7UwN6wjE"
      },
      "outputs": [],
      "source": [
        "#正解データへのパスとファイル名取得\n",
        "CollectPath = \"/content/drive/MyDrive/DICOMO/正解データ/\"\n",
        "CollectFilename = os.listdir(CollectPath)"
      ]
    },
    {
      "cell_type": "code",
      "execution_count": 43,
      "metadata": {
        "id": "1d7zUuH065Sd"
      },
      "outputs": [],
      "source": [
        "#不正解データへのパスとファイル名取得\n",
        "IncollectPath = \"/content/drive/MyDrive/DICOMO/不正解データ/\"\n",
        "IncollectFilename = os.listdir(IncollectPath)"
      ]
    },
    {
      "cell_type": "code",
      "execution_count": 44,
      "metadata": {
        "id": "xf2vfG5A-9Sn"
      },
      "outputs": [],
      "source": [
        "#教師データを格納するリストを定義\n",
        "img = []"
      ]
    },
    {
      "cell_type": "code",
      "execution_count": 45,
      "metadata": {
        "id": "9Da_Q-hE7W1h"
      },
      "outputs": [],
      "source": [
        "#正解データをグレースケールに変換・リサイズ\n",
        "for i in CollectFilename:\n",
        "     image = cv2.imread(CollectPath+i)\n",
        "     image = cv2.cvtColor(image, cv2.COLOR_BGR2GRAY)\n",
        "     image = cv2.resize(image, dsize=(LENGTH, HEIGHT))\n",
        "     img.append(image)"
      ]
    },
    {
      "cell_type": "code",
      "execution_count": 46,
      "metadata": {
        "id": "Y_7SmlmiEdxb"
      },
      "outputs": [],
      "source": [
        "#不正解データをグレースケールに変換・リサイズ\n",
        "for i in IncollectFilename:\n",
        "     image = cv2.imread(IncollectPath+i)\n",
        "     image = cv2.cvtColor(image, cv2.COLOR_BGR2GRAY)\n",
        "     image = cv2.resize(image, dsize=(LENGTH, HEIGHT))\n",
        "     img.append(image)\n",
        "\n",
        "#ndarray型に変換\n",
        "img = np.array(img)"
      ]
    },
    {
      "cell_type": "code",
      "execution_count": 47,
      "metadata": {
        "id": "3P6f3AUkK37r"
      },
      "outputs": [],
      "source": [
        "#教師ラベルを作成\n",
        "#渡れる時を1、渡れない時を0とする\n",
        "CollectLabel = np.ones(len(CollectFilename))\n",
        "IncollectLabel = np.zeros(len(IncollectFilename))\n",
        "label = np.concatenate((CollectLabel, IncollectLabel))\n",
        "\n",
        "#one-hot-encoding([1, 0]や[0, 1]のようにする)\n",
        "label = np_utils.to_categorical(label)"
      ]
    },
    {
      "cell_type": "code",
      "execution_count": 50,
      "metadata": {
        "id": "etta0ZrRNH89"
      },
      "outputs": [],
      "source": [
        "#トレーニングデータとテストデータの分割\n",
        "x_train, x_test, y_train, y_test = train_test_split(img, label, train_size = 0.8, shuffle = True)"
      ]
    },
    {
      "cell_type": "code",
      "execution_count": 51,
      "metadata": {
        "id": "wtuGZkGEvmgJ"
      },
      "outputs": [],
      "source": [
        "# Define the input shape\n",
        "input_shape = (HEIGHT, LENGTH)\n",
        "output_shape = (1,)\n",
        "\n",
        "#形を定義(このモジュールは行列でないとダメっぽい)\n",
        "x_encoder = layers.Input(shape=input_shape)"
      ]
    },
    {
      "cell_type": "code",
      "execution_count": 52,
      "metadata": {
        "id": "a5rxcbGMvmgK"
      },
      "outputs": [],
      "source": [
        "#Transformer Encoder Layer(BERT)\n",
        "for i in range(N):\n",
        "      #Multi-Head-Attention Layer\n",
        "      attention_encoder = layers.MultiHeadAttention(num_heads=NUM_HEADS, key_dim=KEY_DIM, use_bias=True)(x_encoder, x_encoder, x_encoder)\n",
        "\n",
        "      #Dropout Layer\n",
        "      attention_encoder = layers.Dropout(rate=DROPOUT)(attention_encoder)\n",
        "      #Add & Norm Layer\n",
        "      attention_encoder = layers.LayerNormalization()(x_encoder + attention_encoder)\n",
        "\n",
        "      #Feed-Forward-Network\n",
        "      ffn_encoder = layers.Dense(LENGTH * 4, use_bias=True, activation=\"relu\")(attention_encoder)\n",
        "      ffn_encoder = layers.Dense(LENGTH, use_bias=True)(ffn_encoder)\n",
        "\n",
        "      #Dropout Layer\n",
        "      ffn_encoder = layers.Dropout(rate=DROPOUT)(ffn_encoder)\n",
        "      #Add & Norm Layer\n",
        "      x_encoder = layers.LayerNormalization()(attention_encoder + ffn_encoder)"
      ]
    },
    {
      "cell_type": "code",
      "execution_count": 53,
      "metadata": {
        "id": "pHb0FNugvmgK"
      },
      "outputs": [],
      "source": [
        "x = layers.Flatten()(x_encoder)\n",
        "x = layers.Dropout(0.1)(x)\n",
        "outputs = layers.Dense(2, activation=\"softmax\")(x)"
      ]
    },
    {
      "cell_type": "code",
      "execution_count": 54,
      "metadata": {
        "id": "d1g0p_6xvmgL"
      },
      "outputs": [],
      "source": [
        "model = keras.Model(inputs=x_encoder, outputs=outputs)"
      ]
    },
    {
      "cell_type": "code",
      "execution_count": 55,
      "metadata": {
        "id": "G_l6F_cPvmgL"
      },
      "outputs": [],
      "source": [
        "# compile model\n",
        "model.compile(\n",
        "    loss=\"categorical_crossentropy\",   # 誤差関数\n",
        "    optimizer=\"adam\",     # 最適化手法\n",
        "    metrics=['accuracy']\n",
        "    )"
      ]
    },
    {
      "cell_type": "code",
      "execution_count": 56,
      "metadata": {
        "colab": {
          "base_uri": "https://localhost:8080/"
        },
        "id": "UaG-w85ZSawR",
        "outputId": "598bd329-1ca3-4146-a49b-e134e3c6e8ef"
      },
      "outputs": [
        {
          "name": "stdout",
          "output_type": "stream",
          "text": [
            "Epoch 1/50\n",
            "13/13 [==============================] - 1s 18ms/step - loss: 1777.7792 - accuracy: 0.5426 - val_loss: 444.3787 - val_accuracy: 0.6598\n",
            "Epoch 2/50\n",
            "13/13 [==============================] - 0s 6ms/step - loss: 241.3498 - accuracy: 0.6408 - val_loss: 307.7412 - val_accuracy: 0.7216\n",
            "Epoch 3/50\n",
            "13/13 [==============================] - 0s 6ms/step - loss: 102.0896 - accuracy: 0.7778 - val_loss: 152.9412 - val_accuracy: 0.7526\n",
            "Epoch 4/50\n",
            "13/13 [==============================] - 0s 6ms/step - loss: 127.1032 - accuracy: 0.7339 - val_loss: 246.7272 - val_accuracy: 0.5979\n",
            "Epoch 5/50\n",
            "13/13 [==============================] - 0s 6ms/step - loss: 157.1029 - accuracy: 0.7442 - val_loss: 493.7844 - val_accuracy: 0.5773\n",
            "Epoch 6/50\n",
            "13/13 [==============================] - 0s 6ms/step - loss: 181.0880 - accuracy: 0.7649 - val_loss: 147.0831 - val_accuracy: 0.7629\n",
            "Epoch 7/50\n",
            "13/13 [==============================] - 0s 10ms/step - loss: 77.6918 - accuracy: 0.8527 - val_loss: 170.9403 - val_accuracy: 0.7113\n",
            "Epoch 8/50\n",
            "13/13 [==============================] - 0s 8ms/step - loss: 131.8693 - accuracy: 0.7649 - val_loss: 126.8895 - val_accuracy: 0.7938\n",
            "Epoch 9/50\n",
            "13/13 [==============================] - 0s 9ms/step - loss: 55.6332 - accuracy: 0.8811 - val_loss: 149.4338 - val_accuracy: 0.7423\n",
            "Epoch 10/50\n",
            "13/13 [==============================] - 0s 10ms/step - loss: 131.6961 - accuracy: 0.8036 - val_loss: 119.7616 - val_accuracy: 0.8351\n",
            "Epoch 11/50\n",
            "13/13 [==============================] - 0s 9ms/step - loss: 285.3133 - accuracy: 0.6977 - val_loss: 454.0399 - val_accuracy: 0.6701\n",
            "Epoch 12/50\n",
            "13/13 [==============================] - 0s 8ms/step - loss: 129.3080 - accuracy: 0.8398 - val_loss: 201.7933 - val_accuracy: 0.8660\n",
            "Epoch 13/50\n",
            "13/13 [==============================] - 0s 7ms/step - loss: 70.1328 - accuracy: 0.9096 - val_loss: 208.1239 - val_accuracy: 0.8454\n",
            "Epoch 14/50\n",
            "13/13 [==============================] - 0s 8ms/step - loss: 55.3425 - accuracy: 0.9044 - val_loss: 226.1681 - val_accuracy: 0.7320\n",
            "Epoch 15/50\n",
            "13/13 [==============================] - 0s 8ms/step - loss: 86.2627 - accuracy: 0.8630 - val_loss: 166.2444 - val_accuracy: 0.8763\n",
            "Epoch 16/50\n",
            "13/13 [==============================] - 0s 9ms/step - loss: 44.7810 - accuracy: 0.8992 - val_loss: 167.2743 - val_accuracy: 0.8144\n",
            "Epoch 17/50\n",
            "13/13 [==============================] - 0s 8ms/step - loss: 13.5330 - accuracy: 0.9561 - val_loss: 165.5370 - val_accuracy: 0.8351\n",
            "Epoch 18/50\n",
            "13/13 [==============================] - 0s 7ms/step - loss: 13.9050 - accuracy: 0.9432 - val_loss: 157.8315 - val_accuracy: 0.8557\n",
            "Epoch 19/50\n",
            "13/13 [==============================] - 0s 8ms/step - loss: 11.2503 - accuracy: 0.9587 - val_loss: 189.5168 - val_accuracy: 0.7732\n",
            "Epoch 20/50\n",
            "13/13 [==============================] - 0s 13ms/step - loss: 13.2469 - accuracy: 0.9457 - val_loss: 149.0367 - val_accuracy: 0.8351\n",
            "Epoch 21/50\n",
            "13/13 [==============================] - 0s 9ms/step - loss: 16.8035 - accuracy: 0.9406 - val_loss: 244.1381 - val_accuracy: 0.7732\n",
            "Epoch 22/50\n",
            "13/13 [==============================] - 0s 9ms/step - loss: 46.4698 - accuracy: 0.8966 - val_loss: 243.1565 - val_accuracy: 0.6804\n",
            "Epoch 23/50\n",
            "13/13 [==============================] - 0s 9ms/step - loss: 98.0233 - accuracy: 0.8217 - val_loss: 573.0978 - val_accuracy: 0.5670\n",
            "Epoch 24/50\n",
            "13/13 [==============================] - 0s 9ms/step - loss: 141.4886 - accuracy: 0.8088 - val_loss: 243.9170 - val_accuracy: 0.7423\n",
            "Epoch 25/50\n",
            "13/13 [==============================] - 0s 9ms/step - loss: 76.1014 - accuracy: 0.8837 - val_loss: 263.0183 - val_accuracy: 0.7732\n",
            "Epoch 26/50\n",
            "13/13 [==============================] - 0s 8ms/step - loss: 29.3789 - accuracy: 0.9302 - val_loss: 184.2073 - val_accuracy: 0.8247\n",
            "Epoch 27/50\n",
            "13/13 [==============================] - 0s 9ms/step - loss: 40.4683 - accuracy: 0.9096 - val_loss: 256.6771 - val_accuracy: 0.7216\n",
            "Epoch 28/50\n",
            "13/13 [==============================] - 0s 12ms/step - loss: 95.2608 - accuracy: 0.8553 - val_loss: 689.1622 - val_accuracy: 0.6082\n",
            "Epoch 29/50\n",
            "13/13 [==============================] - 0s 9ms/step - loss: 72.4568 - accuracy: 0.8682 - val_loss: 311.4487 - val_accuracy: 0.8041\n",
            "Epoch 30/50\n",
            "13/13 [==============================] - 0s 9ms/step - loss: 26.8251 - accuracy: 0.9380 - val_loss: 203.2641 - val_accuracy: 0.7835\n",
            "Epoch 31/50\n",
            "13/13 [==============================] - 0s 8ms/step - loss: 120.2710 - accuracy: 0.8243 - val_loss: 277.9876 - val_accuracy: 0.7320\n",
            "Epoch 32/50\n",
            "13/13 [==============================] - 0s 8ms/step - loss: 176.2823 - accuracy: 0.7984 - val_loss: 677.2357 - val_accuracy: 0.6392\n",
            "Epoch 33/50\n",
            "13/13 [==============================] - 0s 9ms/step - loss: 105.5769 - accuracy: 0.8527 - val_loss: 793.4196 - val_accuracy: 0.5670\n",
            "Epoch 34/50\n",
            "13/13 [==============================] - 0s 8ms/step - loss: 318.5513 - accuracy: 0.7390 - val_loss: 475.1126 - val_accuracy: 0.7320\n",
            "Epoch 35/50\n",
            "13/13 [==============================] - 0s 11ms/step - loss: 141.0172 - accuracy: 0.8605 - val_loss: 300.4881 - val_accuracy: 0.8351\n",
            "Epoch 36/50\n",
            "13/13 [==============================] - 0s 11ms/step - loss: 29.1178 - accuracy: 0.9509 - val_loss: 258.8321 - val_accuracy: 0.8144\n",
            "Epoch 37/50\n",
            "13/13 [==============================] - 0s 9ms/step - loss: 14.1683 - accuracy: 0.9638 - val_loss: 245.0491 - val_accuracy: 0.8454\n",
            "Epoch 38/50\n",
            "13/13 [==============================] - 0s 8ms/step - loss: 7.8973 - accuracy: 0.9793 - val_loss: 243.4633 - val_accuracy: 0.8454\n",
            "Epoch 39/50\n",
            "13/13 [==============================] - 0s 7ms/step - loss: 3.3002 - accuracy: 0.9871 - val_loss: 242.3087 - val_accuracy: 0.8351\n",
            "Epoch 40/50\n",
            "13/13 [==============================] - 0s 6ms/step - loss: 2.7985 - accuracy: 0.9793 - val_loss: 292.5168 - val_accuracy: 0.8351\n",
            "Epoch 41/50\n",
            "13/13 [==============================] - 0s 6ms/step - loss: 79.7574 - accuracy: 0.8760 - val_loss: 231.9760 - val_accuracy: 0.8660\n",
            "Epoch 42/50\n",
            "13/13 [==============================] - 0s 6ms/step - loss: 10.5733 - accuracy: 0.9690 - val_loss: 386.7038 - val_accuracy: 0.6907\n",
            "Epoch 43/50\n",
            "13/13 [==============================] - 0s 6ms/step - loss: 87.9539 - accuracy: 0.8760 - val_loss: 287.7653 - val_accuracy: 0.8454\n",
            "Epoch 44/50\n",
            "13/13 [==============================] - 0s 5ms/step - loss: 13.0611 - accuracy: 0.9716 - val_loss: 263.4160 - val_accuracy: 0.8660\n",
            "Epoch 45/50\n",
            "13/13 [==============================] - 0s 5ms/step - loss: 8.1370 - accuracy: 0.9767 - val_loss: 266.8040 - val_accuracy: 0.8660\n",
            "Epoch 46/50\n",
            "13/13 [==============================] - 0s 7ms/step - loss: 2.2026 - accuracy: 0.9922 - val_loss: 273.1812 - val_accuracy: 0.7732\n",
            "Epoch 47/50\n",
            "13/13 [==============================] - 0s 6ms/step - loss: 5.1521 - accuracy: 0.9767 - val_loss: 311.0717 - val_accuracy: 0.7629\n",
            "Epoch 48/50\n",
            "13/13 [==============================] - 0s 6ms/step - loss: 30.3976 - accuracy: 0.9276 - val_loss: 241.1521 - val_accuracy: 0.8041\n",
            "Epoch 49/50\n",
            "13/13 [==============================] - 0s 6ms/step - loss: 2.5881 - accuracy: 0.9922 - val_loss: 227.0132 - val_accuracy: 0.8351\n",
            "Epoch 50/50\n",
            "13/13 [==============================] - 0s 6ms/step - loss: 0.7144 - accuracy: 0.9948 - val_loss: 240.1495 - val_accuracy: 0.8454\n"
          ]
        },
        {
          "data": {
            "text/plain": [
              "<keras.callbacks.History at 0x7efc921e1960>"
            ]
          },
          "execution_count": 56,
          "metadata": {},
          "output_type": "execute_result"
        }
      ],
      "source": [
        "model.fit(x_train, y_train, batch_size=32, epochs=50, shuffle=True, validation_split=0.2)"
      ]
    },
    {
      "cell_type": "code",
      "execution_count": 57,
      "metadata": {
        "colab": {
          "base_uri": "https://localhost:8080/"
        },
        "id": "-Tz88N7zw8Bi",
        "outputId": "ecbc7e11-b23b-4d5c-d87d-d12a1728ffbd"
      },
      "outputs": [
        {
          "name": "stdout",
          "output_type": "stream",
          "text": [
            "4/4 [==============================] - 0s 3ms/step\n"
          ]
        }
      ],
      "source": [
        "y_pred = model.predict(x_test)"
      ]
    },
    {
      "cell_type": "code",
      "execution_count": 58,
      "metadata": {
        "id": "zLiwFshvaXiL"
      },
      "outputs": [],
      "source": [
        "#0.5以上の時に1, 以下の時に0とする\n",
        "threshold = 0.5\n",
        "y_pred = np.where(y_pred >= threshold, 1, 0)"
      ]
    },
    {
      "cell_type": "code",
      "execution_count": 59,
      "metadata": {
        "colab": {
          "base_uri": "https://localhost:8080/"
        },
        "id": "g3HUG-K3nkDG",
        "outputId": "20a72384-7f18-4262-fcd5-ae5b9bed1d06"
      },
      "outputs": [
        {
          "data": {
            "text/plain": [
              "0.860655737704918"
            ]
          },
          "execution_count": 59,
          "metadata": {},
          "output_type": "execute_result"
        }
      ],
      "source": [
        "accuracy_score(y_test, y_pred)"
      ]
    },
    {
      "cell_type": "code",
      "execution_count": 60,
      "metadata": {
        "colab": {
          "base_uri": "https://localhost:8080/"
        },
        "id": "-7L-nizlpmT_",
        "outputId": "989b324c-22c5-4803-943f-14e9a67ad799"
      },
      "outputs": [
        {
          "data": {
            "text/plain": [
              "0.860655737704918"
            ]
          },
          "execution_count": 60,
          "metadata": {},
          "output_type": "execute_result"
        }
      ],
      "source": [
        "f1_score(y_test, y_pred, average='micro')"
      ]
    },
    {
      "cell_type": "code",
      "execution_count": null,
      "metadata": {
        "id": "IEpudZQXarJH"
      },
      "outputs": [],
      "source": []
    }
  ],
  "metadata": {
    "accelerator": "GPU",
    "colab": {
      "gpuType": "T4",
      "provenance": []
    },
    "kernelspec": {
      "display_name": "Python 3",
      "name": "python3"
    },
    "language_info": {
      "codemirror_mode": {
        "name": "ipython",
        "version": 3
      },
      "file_extension": ".py",
      "mimetype": "text/x-python",
      "name": "python",
      "nbconvert_exporter": "python",
      "pygments_lexer": "ipython3",
      "version": "3.11.3"
    },
    "orig_nbformat": 4
  },
  "nbformat": 4,
  "nbformat_minor": 0
}
