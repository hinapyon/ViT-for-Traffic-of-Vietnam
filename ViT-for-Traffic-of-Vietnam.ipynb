{
  "cells": [
    {
      "cell_type": "code",
      "execution_count": 1,
      "metadata": {
        "id": "FIL5JwkLvmgF"
      },
      "outputs": [],
      "source": [
        "#ライブラリをインポート\n",
        "import os #OSに依存する様々な機能を利用するためのモジュール(ファイルやディレクトリ操作など)\n",
        "import re #正規表現を利用するためのモジュール\n",
        "import csv  #csvファイルを扱うためのモジュール\n",
        "import math #数学的計算のためのモジュール\n",
        "import cv2 #画像処理のためのモジュール\n",
        "import matplotlib.pyplot as plt #グラフ描画のためのモジュール\n",
        "import numpy as np  #多次元配列計算のためのモジュール\n",
        "import pandas as pd #データフレームを扱うためのモジュール\n",
        "from scipy import signal  #信号処理のためのモジュール\n",
        "from scipy.stats import skew, kurtosis  #歪度と尖度を調べるためのモジュール\n",
        "from sklearn.model_selection import train_test_split  #データをトレーニング用とテスト用に分けるためのモジュール\n",
        "from sklearn import preprocessing #データを正規化するためのモジュール\n",
        "from sklearn.preprocessing import StandardScaler  #データを標準化するためのモジュール\n",
        "from sklearn.preprocessing import LabelEncoder  #カテゴリ変数を数値化するためのモジュール\n",
        "from sklearn.metrics import accuracy_score, mean_squared_error, mean_absolute_error, r2_score #機械学習モデルの性能評価のためのモジュール\n",
        "import tensorflow as tf #TensorFlow(Googleが開発したオープンソースの機械学習フレームワーク)\n",
        "from tensorflow import keras  #TensorFlow用のニューラルネットワークライブラリAPI\n",
        "from tensorflow.keras import layers #ニューラルネットワークのレイヤーを定義するためのモジュール\n",
        "from keras.utils import np_utils"
      ]
    },
    {
      "cell_type": "code",
      "source": [
        "#メモ\n",
        "#画像のサイズは縦：横=1088:1920=17:30"
      ],
      "metadata": {
        "id": "uBng5g_POIMN"
      },
      "execution_count": null,
      "outputs": []
    },
    {
      "cell_type": "code",
      "source": [
        "#自分のGoogle Driveとドッキング\n",
        "from google.colab import drive\n",
        "drive.mount('/content/drive')"
      ],
      "metadata": {
        "id": "mA1YMpwR6sKj",
        "colab": {
          "base_uri": "https://localhost:8080/"
        },
        "outputId": "4c7239c6-26ee-4738-bb12-419072f6394f"
      },
      "execution_count": 2,
      "outputs": [
        {
          "output_type": "stream",
          "name": "stdout",
          "text": [
            "Drive already mounted at /content/drive; to attempt to forcibly remount, call drive.mount(\"/content/drive\", force_remount=True).\n"
          ]
        }
      ]
    },
    {
      "cell_type": "code",
      "source": [
        "#GPUを使うための処理\n",
        "import tensorflow as tf\n",
        "device_name = tf.test.gpu_device_name()\n",
        "if device_name != '/device:GPU:0':\n",
        "  raise SystemError('GPU device not found')\n",
        "print('Found GPU at: {}'.format(device_name))"
      ],
      "metadata": {
        "id": "mLiR9zG46pL4",
        "colab": {
          "base_uri": "https://localhost:8080/"
        },
        "outputId": "75c87334-4f49-46f3-df0e-d1997004cabc"
      },
      "execution_count": 3,
      "outputs": [
        {
          "output_type": "stream",
          "name": "stdout",
          "text": [
            "Found GPU at: /device:GPU:0\n"
          ]
        }
      ]
    },
    {
      "cell_type": "code",
      "source": [
        "#マクロの定義\n",
        "N = 1 #Encoderの層の数\n",
        "NUM_HEADS = 8\n",
        "KEY_DIM = 30\n",
        "DROPOUT = 0.1 #ドロップアウト率\n",
        "LENGTH = 240\n",
        "HEIGHT = 136"
      ],
      "metadata": {
        "id": "y4I8paPHeKog"
      },
      "execution_count": 41,
      "outputs": []
    },
    {
      "cell_type": "code",
      "source": [
        "#正解データへのパスとファイル名取得\n",
        "CollectPath = \"/content/drive/MyDrive/DICOMO/正解データ/\"\n",
        "CollectFilename = os.listdir(CollectPath)"
      ],
      "metadata": {
        "id": "x6tK7UwN6wjE"
      },
      "execution_count": 4,
      "outputs": []
    },
    {
      "cell_type": "code",
      "source": [
        "#不正解データへのパスとファイル名取得\n",
        "IncollectPath = \"/content/drive/MyDrive/DICOMO/不正解データ/\"\n",
        "IncollectFilename = os.listdir(IncollectPath)"
      ],
      "metadata": {
        "id": "1d7zUuH065Sd"
      },
      "execution_count": 5,
      "outputs": []
    },
    {
      "cell_type": "code",
      "source": [
        "#教師データを格納するリストを定義\n",
        "img = []"
      ],
      "metadata": {
        "id": "xf2vfG5A-9Sn"
      },
      "execution_count": 39,
      "outputs": []
    },
    {
      "cell_type": "code",
      "source": [
        "#正解データをグレースケールに変換・リサイズ\n",
        "for i in CollectFilename:\n",
        "     image = cv2.imread(CollectPath+i)\n",
        "     image = cv2.cvtColor(image, cv2.COLOR_BGR2GRAY)\n",
        "     image = cv2.resize(image, dsize=(LENGTH, HEIGHT))\n",
        "     img.append(image)"
      ],
      "metadata": {
        "id": "9Da_Q-hE7W1h"
      },
      "execution_count": 40,
      "outputs": []
    },
    {
      "cell_type": "code",
      "source": [
        "#不正解データをグレースケールに変換・リサイズ\n",
        "for i in IncollectFilename:\n",
        "     image = cv2.imread(IncollectPath+i)\n",
        "     image = cv2.cvtColor(image, cv2.COLOR_BGR2GRAY)\n",
        "     image = cv2.resize(image, dsize=(LENGTH, HEIGHT))\n",
        "     img.append(image)"
      ],
      "metadata": {
        "id": "Y_7SmlmiEdxb"
      },
      "execution_count": 42,
      "outputs": []
    },
    {
      "cell_type": "code",
      "source": [
        "#教師ラベルを作成\n",
        "#渡れる時を1、渡れない時を0とする\n",
        "CollectLabel = np.ones(len(CollectFilename))\n",
        "IncollectLabel = np.zeros(len(IncollectFilename))\n",
        "label = np.concatenate((CollectLabel, IncollectLabel))"
      ],
      "metadata": {
        "id": "3P6f3AUkK37r"
      },
      "execution_count": 43,
      "outputs": []
    },
    {
      "cell_type": "code",
      "source": [
        "img = np.array(img)"
      ],
      "metadata": {
        "id": "Gu6PfaPBVpnC"
      },
      "execution_count": 44,
      "outputs": []
    },
    {
      "cell_type": "code",
      "source": [
        "img[0].shape"
      ],
      "metadata": {
        "id": "DUtNKmntfd8Q",
        "outputId": "bb472bd1-f1e3-49bc-b01e-3437e195c435",
        "colab": {
          "base_uri": "https://localhost:8080/"
        }
      },
      "execution_count": 47,
      "outputs": [
        {
          "output_type": "execute_result",
          "data": {
            "text/plain": [
              "(136, 240)"
            ]
          },
          "metadata": {},
          "execution_count": 47
        }
      ]
    },
    {
      "cell_type": "code",
      "source": [
        "label = np_utils.to_categorical(label)"
      ],
      "metadata": {
        "id": "hZu1xedlXSQ1"
      },
      "execution_count": 45,
      "outputs": []
    },
    {
      "cell_type": "code",
      "source": [
        "#トレーニングデータとテストデータの分割\n",
        "x_train, x_test, y_train, y_test = train_test_split(img, label, train_size = 0.8, shuffle = True)"
      ],
      "metadata": {
        "id": "etta0ZrRNH89"
      },
      "execution_count": 51,
      "outputs": []
    },
    {
      "cell_type": "code",
      "execution_count": 52,
      "metadata": {
        "id": "wtuGZkGEvmgJ"
      },
      "outputs": [],
      "source": [
        "# Define the input shape\n",
        "input_shape = (HEIGHT, LENGTH)\n",
        "output_shape = (1,)\n",
        "\n",
        "#形を定義(このモジュールは行列でないとダメっぽい)\n",
        "x_encoder = layers.Input(shape=input_shape)"
      ]
    },
    {
      "cell_type": "code",
      "execution_count": 54,
      "metadata": {
        "id": "a5rxcbGMvmgK"
      },
      "outputs": [],
      "source": [
        "#Transformer Encoder Layer(BERT)\n",
        "for i in range(N):\n",
        "      #Multi-Head-Attention Layer\n",
        "      attention_encoder = layers.MultiHeadAttention(num_heads=NUM_HEADS, key_dim=KEY_DIM, use_bias=True)(x_encoder, x_encoder, x_encoder)\n",
        "\n",
        "      #Dropout Layer\n",
        "      attention_encoder = layers.Dropout(rate=DROPOUT)(attention_encoder)\n",
        "      #Add & Norm Layer\n",
        "      attention_encoder = layers.LayerNormalization()(x_encoder + attention_encoder)\n",
        "\n",
        "      #Feed-Forward-Network\n",
        "      ffn_encoder = layers.Dense(LENGTH * 4, use_bias=True, activation=\"relu\")(attention_encoder)\n",
        "      ffn_encoder = layers.Dense(LENGTH, use_bias=True)(ffn_encoder)\n",
        "\n",
        "      #Dropout Layer\n",
        "      ffn_encoder = layers.Dropout(rate=DROPOUT)(ffn_encoder)\n",
        "      #Add & Norm Layer\n",
        "      x_encoder = layers.LayerNormalization()(attention_encoder + ffn_encoder)"
      ]
    },
    {
      "cell_type": "code",
      "execution_count": 55,
      "metadata": {
        "id": "pHb0FNugvmgK"
      },
      "outputs": [],
      "source": [
        "x = layers.Flatten()(x_encoder)\n",
        "x = layers.Dropout(0.1)(x)\n",
        "outputs = layers.Dense(2, activation=\"softmax\")(x)"
      ]
    },
    {
      "cell_type": "code",
      "execution_count": 56,
      "metadata": {
        "id": "d1g0p_6xvmgL"
      },
      "outputs": [],
      "source": [
        "model = keras.Model(inputs=x_encoder, outputs=outputs)"
      ]
    },
    {
      "cell_type": "code",
      "execution_count": 57,
      "metadata": {
        "id": "G_l6F_cPvmgL"
      },
      "outputs": [],
      "source": [
        "# compile model\n",
        "model.compile(\n",
        "    loss=\"categorical_crossentropy\",   # 誤差関数\n",
        "    optimizer=\"adam\",     # 最適化手法\n",
        "    metrics=['accuracy']\n",
        "    )"
      ]
    },
    {
      "cell_type": "code",
      "source": [
        "x_train[0].shape"
      ],
      "metadata": {
        "colab": {
          "base_uri": "https://localhost:8080/"
        },
        "id": "_xYqfutEUhVp",
        "outputId": "8bcc6471-7e86-4328-bc4a-8db3a50f7488"
      },
      "execution_count": 58,
      "outputs": [
        {
          "output_type": "execute_result",
          "data": {
            "text/plain": [
              "(136, 240)"
            ]
          },
          "metadata": {},
          "execution_count": 58
        }
      ]
    },
    {
      "cell_type": "code",
      "source": [
        "model.fit(x_train, y_train, batch_size=32, epochs=100, shuffle=True, validation_split=0.2)\n",
        "y_pred = model.predict(x_test)"
      ],
      "metadata": {
        "colab": {
          "base_uri": "https://localhost:8080/"
        },
        "id": "UaG-w85ZSawR",
        "outputId": "95214d99-0d19-434f-d18e-bda841a328f4"
      },
      "execution_count": 81,
      "outputs": [
        {
          "output_type": "stream",
          "name": "stdout",
          "text": [
            "Epoch 1/100\n",
            "13/13 [==============================] - 0s 12ms/step - loss: 0.0000e+00 - accuracy: 1.0000 - val_loss: 296.8395 - val_accuracy: 0.8660\n",
            "Epoch 2/100\n",
            "13/13 [==============================] - 0s 8ms/step - loss: 0.0000e+00 - accuracy: 1.0000 - val_loss: 296.8395 - val_accuracy: 0.8660\n",
            "Epoch 3/100\n",
            "13/13 [==============================] - 0s 7ms/step - loss: 0.0000e+00 - accuracy: 1.0000 - val_loss: 296.8395 - val_accuracy: 0.8660\n",
            "Epoch 4/100\n",
            "13/13 [==============================] - 0s 8ms/step - loss: 0.0000e+00 - accuracy: 1.0000 - val_loss: 296.8395 - val_accuracy: 0.8660\n",
            "Epoch 5/100\n",
            "13/13 [==============================] - 0s 7ms/step - loss: 0.0000e+00 - accuracy: 1.0000 - val_loss: 296.8395 - val_accuracy: 0.8660\n",
            "Epoch 6/100\n",
            "13/13 [==============================] - 0s 8ms/step - loss: 0.0000e+00 - accuracy: 1.0000 - val_loss: 296.8395 - val_accuracy: 0.8660\n",
            "Epoch 7/100\n",
            "13/13 [==============================] - 0s 7ms/step - loss: 0.0000e+00 - accuracy: 1.0000 - val_loss: 296.8395 - val_accuracy: 0.8660\n",
            "Epoch 8/100\n",
            "13/13 [==============================] - 0s 7ms/step - loss: 0.0000e+00 - accuracy: 1.0000 - val_loss: 296.8395 - val_accuracy: 0.8660\n",
            "Epoch 9/100\n",
            "13/13 [==============================] - 0s 11ms/step - loss: 0.0000e+00 - accuracy: 1.0000 - val_loss: 296.8395 - val_accuracy: 0.8660\n",
            "Epoch 10/100\n",
            "13/13 [==============================] - 0s 8ms/step - loss: 0.0000e+00 - accuracy: 1.0000 - val_loss: 296.8395 - val_accuracy: 0.8660\n",
            "Epoch 11/100\n",
            "13/13 [==============================] - 0s 8ms/step - loss: 0.0000e+00 - accuracy: 1.0000 - val_loss: 296.8395 - val_accuracy: 0.8660\n",
            "Epoch 12/100\n",
            "13/13 [==============================] - 0s 8ms/step - loss: 0.0000e+00 - accuracy: 1.0000 - val_loss: 296.8395 - val_accuracy: 0.8660\n",
            "Epoch 13/100\n",
            "13/13 [==============================] - 0s 8ms/step - loss: 0.0000e+00 - accuracy: 1.0000 - val_loss: 296.8395 - val_accuracy: 0.8660\n",
            "Epoch 14/100\n",
            "13/13 [==============================] - 0s 7ms/step - loss: 0.0000e+00 - accuracy: 1.0000 - val_loss: 296.8395 - val_accuracy: 0.8660\n",
            "Epoch 15/100\n",
            "13/13 [==============================] - 0s 8ms/step - loss: 0.0000e+00 - accuracy: 1.0000 - val_loss: 296.8395 - val_accuracy: 0.8660\n",
            "Epoch 16/100\n",
            "13/13 [==============================] - 0s 7ms/step - loss: 0.0000e+00 - accuracy: 1.0000 - val_loss: 296.8395 - val_accuracy: 0.8660\n",
            "Epoch 17/100\n",
            "13/13 [==============================] - 0s 7ms/step - loss: 0.0000e+00 - accuracy: 1.0000 - val_loss: 296.8395 - val_accuracy: 0.8660\n",
            "Epoch 18/100\n",
            "13/13 [==============================] - 0s 7ms/step - loss: 0.0000e+00 - accuracy: 1.0000 - val_loss: 296.8395 - val_accuracy: 0.8660\n",
            "Epoch 19/100\n",
            "13/13 [==============================] - 0s 9ms/step - loss: 0.0000e+00 - accuracy: 1.0000 - val_loss: 296.8395 - val_accuracy: 0.8660\n",
            "Epoch 20/100\n",
            "13/13 [==============================] - 0s 8ms/step - loss: 0.0000e+00 - accuracy: 1.0000 - val_loss: 296.8395 - val_accuracy: 0.8660\n",
            "Epoch 21/100\n",
            "13/13 [==============================] - 0s 7ms/step - loss: 0.0000e+00 - accuracy: 1.0000 - val_loss: 296.8395 - val_accuracy: 0.8660\n",
            "Epoch 22/100\n",
            "13/13 [==============================] - 0s 8ms/step - loss: 0.0000e+00 - accuracy: 1.0000 - val_loss: 296.8395 - val_accuracy: 0.8660\n",
            "Epoch 23/100\n",
            "13/13 [==============================] - 0s 9ms/step - loss: 0.0000e+00 - accuracy: 1.0000 - val_loss: 296.8395 - val_accuracy: 0.8660\n",
            "Epoch 24/100\n",
            "13/13 [==============================] - 0s 8ms/step - loss: 0.0000e+00 - accuracy: 1.0000 - val_loss: 296.8395 - val_accuracy: 0.8660\n",
            "Epoch 25/100\n",
            "13/13 [==============================] - 0s 7ms/step - loss: 0.0000e+00 - accuracy: 1.0000 - val_loss: 296.8395 - val_accuracy: 0.8660\n",
            "Epoch 26/100\n",
            "13/13 [==============================] - 0s 8ms/step - loss: 0.0000e+00 - accuracy: 1.0000 - val_loss: 296.8395 - val_accuracy: 0.8660\n",
            "Epoch 27/100\n",
            "13/13 [==============================] - 0s 8ms/step - loss: 0.0000e+00 - accuracy: 1.0000 - val_loss: 296.8395 - val_accuracy: 0.8660\n",
            "Epoch 28/100\n",
            "13/13 [==============================] - 0s 8ms/step - loss: 0.0000e+00 - accuracy: 1.0000 - val_loss: 296.8395 - val_accuracy: 0.8660\n",
            "Epoch 29/100\n",
            "13/13 [==============================] - 0s 10ms/step - loss: 0.0000e+00 - accuracy: 1.0000 - val_loss: 296.8395 - val_accuracy: 0.8660\n",
            "Epoch 30/100\n",
            "13/13 [==============================] - 0s 7ms/step - loss: 0.0000e+00 - accuracy: 1.0000 - val_loss: 296.8395 - val_accuracy: 0.8660\n",
            "Epoch 31/100\n",
            "13/13 [==============================] - 0s 8ms/step - loss: 0.0000e+00 - accuracy: 1.0000 - val_loss: 296.8395 - val_accuracy: 0.8660\n",
            "Epoch 32/100\n",
            "13/13 [==============================] - 0s 8ms/step - loss: 0.0000e+00 - accuracy: 1.0000 - val_loss: 296.8395 - val_accuracy: 0.8660\n",
            "Epoch 33/100\n",
            "13/13 [==============================] - 0s 8ms/step - loss: 0.0000e+00 - accuracy: 1.0000 - val_loss: 296.8395 - val_accuracy: 0.8660\n",
            "Epoch 34/100\n",
            "13/13 [==============================] - 0s 7ms/step - loss: 0.0000e+00 - accuracy: 1.0000 - val_loss: 296.8395 - val_accuracy: 0.8660\n",
            "Epoch 35/100\n",
            "13/13 [==============================] - 0s 7ms/step - loss: 0.0000e+00 - accuracy: 1.0000 - val_loss: 296.8395 - val_accuracy: 0.8660\n",
            "Epoch 36/100\n",
            "13/13 [==============================] - 0s 8ms/step - loss: 0.0000e+00 - accuracy: 1.0000 - val_loss: 296.8395 - val_accuracy: 0.8660\n",
            "Epoch 37/100\n",
            "13/13 [==============================] - 0s 11ms/step - loss: 0.0000e+00 - accuracy: 1.0000 - val_loss: 296.8395 - val_accuracy: 0.8660\n",
            "Epoch 38/100\n",
            "13/13 [==============================] - 0s 7ms/step - loss: 0.0000e+00 - accuracy: 1.0000 - val_loss: 296.8395 - val_accuracy: 0.8660\n",
            "Epoch 39/100\n",
            "13/13 [==============================] - 0s 8ms/step - loss: 0.0000e+00 - accuracy: 1.0000 - val_loss: 296.8395 - val_accuracy: 0.8660\n",
            "Epoch 40/100\n",
            "13/13 [==============================] - 0s 8ms/step - loss: 1.3472 - accuracy: 0.9922 - val_loss: 598.9941 - val_accuracy: 0.7938\n",
            "Epoch 41/100\n",
            "13/13 [==============================] - 0s 8ms/step - loss: 20.9887 - accuracy: 0.9716 - val_loss: 322.3458 - val_accuracy: 0.8660\n",
            "Epoch 42/100\n",
            "13/13 [==============================] - 0s 8ms/step - loss: 0.0000e+00 - accuracy: 1.0000 - val_loss: 231.8555 - val_accuracy: 0.8454\n",
            "Epoch 43/100\n",
            "13/13 [==============================] - 0s 8ms/step - loss: 0.0000e+00 - accuracy: 1.0000 - val_loss: 224.9749 - val_accuracy: 0.8660\n",
            "Epoch 44/100\n",
            "13/13 [==============================] - 0s 7ms/step - loss: 0.0000e+00 - accuracy: 1.0000 - val_loss: 224.7090 - val_accuracy: 0.8763\n",
            "Epoch 45/100\n",
            "13/13 [==============================] - 0s 7ms/step - loss: 0.0000e+00 - accuracy: 1.0000 - val_loss: 224.7893 - val_accuracy: 0.8763\n",
            "Epoch 46/100\n",
            "13/13 [==============================] - 0s 7ms/step - loss: 0.0000e+00 - accuracy: 1.0000 - val_loss: 224.8098 - val_accuracy: 0.8763\n",
            "Epoch 47/100\n",
            "13/13 [==============================] - 0s 9ms/step - loss: 0.0000e+00 - accuracy: 1.0000 - val_loss: 224.8151 - val_accuracy: 0.8763\n",
            "Epoch 48/100\n",
            "13/13 [==============================] - 0s 11ms/step - loss: 0.0000e+00 - accuracy: 1.0000 - val_loss: 224.8164 - val_accuracy: 0.8763\n",
            "Epoch 49/100\n",
            "13/13 [==============================] - 0s 7ms/step - loss: 0.0000e+00 - accuracy: 1.0000 - val_loss: 224.8167 - val_accuracy: 0.8763\n",
            "Epoch 50/100\n",
            "13/13 [==============================] - 0s 6ms/step - loss: 0.0000e+00 - accuracy: 1.0000 - val_loss: 224.8169 - val_accuracy: 0.8763\n",
            "Epoch 51/100\n",
            "13/13 [==============================] - 0s 7ms/step - loss: 0.0000e+00 - accuracy: 1.0000 - val_loss: 224.8169 - val_accuracy: 0.8763\n",
            "Epoch 52/100\n",
            "13/13 [==============================] - 0s 8ms/step - loss: 0.0000e+00 - accuracy: 1.0000 - val_loss: 224.8169 - val_accuracy: 0.8763\n",
            "Epoch 53/100\n",
            "13/13 [==============================] - 0s 7ms/step - loss: 0.0000e+00 - accuracy: 1.0000 - val_loss: 224.8169 - val_accuracy: 0.8763\n",
            "Epoch 54/100\n",
            "13/13 [==============================] - 0s 8ms/step - loss: 0.0000e+00 - accuracy: 1.0000 - val_loss: 224.8169 - val_accuracy: 0.8763\n",
            "Epoch 55/100\n",
            "13/13 [==============================] - 0s 8ms/step - loss: 0.0000e+00 - accuracy: 1.0000 - val_loss: 224.8169 - val_accuracy: 0.8763\n",
            "Epoch 56/100\n",
            "13/13 [==============================] - 0s 14ms/step - loss: 0.0000e+00 - accuracy: 1.0000 - val_loss: 224.8169 - val_accuracy: 0.8763\n",
            "Epoch 57/100\n",
            "13/13 [==============================] - 0s 14ms/step - loss: 0.0000e+00 - accuracy: 1.0000 - val_loss: 224.8169 - val_accuracy: 0.8763\n",
            "Epoch 58/100\n",
            "13/13 [==============================] - 0s 12ms/step - loss: 0.0000e+00 - accuracy: 1.0000 - val_loss: 224.8169 - val_accuracy: 0.8763\n",
            "Epoch 59/100\n",
            "13/13 [==============================] - 0s 11ms/step - loss: 0.0000e+00 - accuracy: 1.0000 - val_loss: 224.8169 - val_accuracy: 0.8763\n",
            "Epoch 60/100\n",
            "13/13 [==============================] - 0s 10ms/step - loss: 0.0000e+00 - accuracy: 1.0000 - val_loss: 224.8169 - val_accuracy: 0.8763\n",
            "Epoch 61/100\n",
            "13/13 [==============================] - 0s 12ms/step - loss: 0.0000e+00 - accuracy: 1.0000 - val_loss: 224.8169 - val_accuracy: 0.8763\n",
            "Epoch 62/100\n",
            "13/13 [==============================] - 0s 12ms/step - loss: 0.0000e+00 - accuracy: 1.0000 - val_loss: 224.8169 - val_accuracy: 0.8763\n",
            "Epoch 63/100\n",
            "13/13 [==============================] - 0s 11ms/step - loss: 0.0000e+00 - accuracy: 1.0000 - val_loss: 224.8169 - val_accuracy: 0.8763\n",
            "Epoch 64/100\n",
            "13/13 [==============================] - 0s 11ms/step - loss: 0.0000e+00 - accuracy: 1.0000 - val_loss: 224.8169 - val_accuracy: 0.8763\n",
            "Epoch 65/100\n",
            "13/13 [==============================] - 0s 10ms/step - loss: 0.0000e+00 - accuracy: 1.0000 - val_loss: 224.8169 - val_accuracy: 0.8763\n",
            "Epoch 66/100\n",
            "13/13 [==============================] - 0s 11ms/step - loss: 0.0000e+00 - accuracy: 1.0000 - val_loss: 224.8169 - val_accuracy: 0.8763\n",
            "Epoch 67/100\n",
            "13/13 [==============================] - 0s 12ms/step - loss: 0.0000e+00 - accuracy: 1.0000 - val_loss: 224.8169 - val_accuracy: 0.8763\n",
            "Epoch 68/100\n",
            "13/13 [==============================] - 0s 12ms/step - loss: 0.0000e+00 - accuracy: 1.0000 - val_loss: 224.8169 - val_accuracy: 0.8763\n",
            "Epoch 69/100\n",
            "13/13 [==============================] - 0s 14ms/step - loss: 0.0000e+00 - accuracy: 1.0000 - val_loss: 224.8169 - val_accuracy: 0.8763\n",
            "Epoch 70/100\n",
            "13/13 [==============================] - 0s 11ms/step - loss: 0.0000e+00 - accuracy: 1.0000 - val_loss: 224.8169 - val_accuracy: 0.8763\n",
            "Epoch 71/100\n",
            "13/13 [==============================] - 0s 11ms/step - loss: 0.0000e+00 - accuracy: 1.0000 - val_loss: 224.8169 - val_accuracy: 0.8763\n",
            "Epoch 72/100\n",
            "13/13 [==============================] - 0s 11ms/step - loss: 0.0000e+00 - accuracy: 1.0000 - val_loss: 224.8169 - val_accuracy: 0.8763\n",
            "Epoch 73/100\n",
            "13/13 [==============================] - 0s 11ms/step - loss: 0.0000e+00 - accuracy: 1.0000 - val_loss: 224.8169 - val_accuracy: 0.8763\n",
            "Epoch 74/100\n",
            "13/13 [==============================] - 0s 10ms/step - loss: 0.0000e+00 - accuracy: 1.0000 - val_loss: 224.8169 - val_accuracy: 0.8763\n",
            "Epoch 75/100\n",
            "13/13 [==============================] - 0s 10ms/step - loss: 0.0000e+00 - accuracy: 1.0000 - val_loss: 224.8169 - val_accuracy: 0.8763\n",
            "Epoch 76/100\n",
            "13/13 [==============================] - 0s 16ms/step - loss: 0.0000e+00 - accuracy: 1.0000 - val_loss: 224.8169 - val_accuracy: 0.8763\n",
            "Epoch 77/100\n",
            "13/13 [==============================] - 0s 12ms/step - loss: 0.0000e+00 - accuracy: 1.0000 - val_loss: 224.8169 - val_accuracy: 0.8763\n",
            "Epoch 78/100\n",
            "13/13 [==============================] - 0s 11ms/step - loss: 0.0000e+00 - accuracy: 1.0000 - val_loss: 224.8169 - val_accuracy: 0.8763\n",
            "Epoch 79/100\n",
            "13/13 [==============================] - 0s 11ms/step - loss: 0.0000e+00 - accuracy: 1.0000 - val_loss: 224.8169 - val_accuracy: 0.8763\n",
            "Epoch 80/100\n",
            "13/13 [==============================] - 0s 11ms/step - loss: 0.0000e+00 - accuracy: 1.0000 - val_loss: 224.8169 - val_accuracy: 0.8763\n",
            "Epoch 81/100\n",
            "13/13 [==============================] - 0s 11ms/step - loss: 0.0000e+00 - accuracy: 1.0000 - val_loss: 224.8169 - val_accuracy: 0.8763\n",
            "Epoch 82/100\n",
            "13/13 [==============================] - 0s 11ms/step - loss: 0.0000e+00 - accuracy: 1.0000 - val_loss: 224.8169 - val_accuracy: 0.8763\n",
            "Epoch 83/100\n",
            "13/13 [==============================] - 0s 11ms/step - loss: 0.0000e+00 - accuracy: 1.0000 - val_loss: 224.8169 - val_accuracy: 0.8763\n",
            "Epoch 84/100\n",
            "13/13 [==============================] - 0s 11ms/step - loss: 0.0000e+00 - accuracy: 1.0000 - val_loss: 224.8169 - val_accuracy: 0.8763\n",
            "Epoch 85/100\n",
            "13/13 [==============================] - 0s 11ms/step - loss: 0.0000e+00 - accuracy: 1.0000 - val_loss: 224.8169 - val_accuracy: 0.8763\n",
            "Epoch 86/100\n",
            "13/13 [==============================] - 0s 8ms/step - loss: 0.0000e+00 - accuracy: 1.0000 - val_loss: 224.8169 - val_accuracy: 0.8763\n",
            "Epoch 87/100\n",
            "13/13 [==============================] - 0s 7ms/step - loss: 0.0000e+00 - accuracy: 1.0000 - val_loss: 224.8169 - val_accuracy: 0.8763\n",
            "Epoch 88/100\n",
            "13/13 [==============================] - 0s 7ms/step - loss: 0.0000e+00 - accuracy: 1.0000 - val_loss: 224.8169 - val_accuracy: 0.8763\n",
            "Epoch 89/100\n",
            "13/13 [==============================] - 0s 9ms/step - loss: 0.0000e+00 - accuracy: 1.0000 - val_loss: 224.8169 - val_accuracy: 0.8763\n",
            "Epoch 90/100\n",
            "13/13 [==============================] - 0s 9ms/step - loss: 0.0000e+00 - accuracy: 1.0000 - val_loss: 224.8169 - val_accuracy: 0.8763\n",
            "Epoch 91/100\n",
            "13/13 [==============================] - 0s 9ms/step - loss: 0.0000e+00 - accuracy: 1.0000 - val_loss: 224.8169 - val_accuracy: 0.8763\n",
            "Epoch 92/100\n",
            "13/13 [==============================] - 0s 8ms/step - loss: 0.0000e+00 - accuracy: 1.0000 - val_loss: 224.8169 - val_accuracy: 0.8763\n",
            "Epoch 93/100\n",
            "13/13 [==============================] - 0s 8ms/step - loss: 0.0000e+00 - accuracy: 1.0000 - val_loss: 224.8169 - val_accuracy: 0.8763\n",
            "Epoch 94/100\n",
            "13/13 [==============================] - 0s 7ms/step - loss: 0.0000e+00 - accuracy: 1.0000 - val_loss: 224.8169 - val_accuracy: 0.8763\n",
            "Epoch 95/100\n",
            "13/13 [==============================] - 0s 7ms/step - loss: 0.0000e+00 - accuracy: 1.0000 - val_loss: 224.8169 - val_accuracy: 0.8763\n",
            "Epoch 96/100\n",
            "13/13 [==============================] - 0s 7ms/step - loss: 0.0000e+00 - accuracy: 1.0000 - val_loss: 224.8169 - val_accuracy: 0.8763\n",
            "Epoch 97/100\n",
            "13/13 [==============================] - 0s 7ms/step - loss: 0.0000e+00 - accuracy: 1.0000 - val_loss: 224.8169 - val_accuracy: 0.8763\n",
            "Epoch 98/100\n",
            "13/13 [==============================] - 0s 7ms/step - loss: 0.0000e+00 - accuracy: 1.0000 - val_loss: 224.8169 - val_accuracy: 0.8763\n",
            "Epoch 99/100\n",
            "13/13 [==============================] - 0s 9ms/step - loss: 0.0000e+00 - accuracy: 1.0000 - val_loss: 224.8169 - val_accuracy: 0.8763\n",
            "Epoch 100/100\n",
            "13/13 [==============================] - 0s 9ms/step - loss: 0.0000e+00 - accuracy: 1.0000 - val_loss: 224.8169 - val_accuracy: 0.8763\n",
            "4/4 [==============================] - 0s 4ms/step\n"
          ]
        }
      ]
    },
    {
      "cell_type": "code",
      "source": [],
      "metadata": {
        "id": "uL2WnF4Ah4dp"
      },
      "execution_count": 78,
      "outputs": []
    },
    {
      "cell_type": "code",
      "source": [
        "accuracy_score(y_pred, y_test)"
      ],
      "metadata": {
        "colab": {
          "base_uri": "https://localhost:8080/"
        },
        "id": "QokD1P28RvRq",
        "outputId": "e6a9a6f2-d46b-4703-fdb9-6bdcbec9abcc"
      },
      "execution_count": 84,
      "outputs": [
        {
          "output_type": "execute_result",
          "data": {
            "text/plain": [
              "0.8442622950819673"
            ]
          },
          "metadata": {},
          "execution_count": 84
        }
      ]
    },
    {
      "cell_type": "code",
      "source": [
        "y_pred"
      ],
      "metadata": {
        "colab": {
          "base_uri": "https://localhost:8080/"
        },
        "id": "xRvN-BUES2lt",
        "outputId": "48752af9-eeaa-49dd-adde-f7660889203b"
      },
      "execution_count": 83,
      "outputs": [
        {
          "output_type": "execute_result",
          "data": {
            "text/plain": [
              "array([[1., 0.],\n",
              "       [1., 0.],\n",
              "       [0., 1.],\n",
              "       [1., 0.],\n",
              "       [0., 1.],\n",
              "       [1., 0.],\n",
              "       [0., 1.],\n",
              "       [1., 0.],\n",
              "       [0., 1.],\n",
              "       [1., 0.],\n",
              "       [0., 1.],\n",
              "       [1., 0.],\n",
              "       [1., 0.],\n",
              "       [1., 0.],\n",
              "       [0., 1.],\n",
              "       [0., 1.],\n",
              "       [1., 0.],\n",
              "       [0., 1.],\n",
              "       [0., 1.],\n",
              "       [1., 0.],\n",
              "       [0., 1.],\n",
              "       [1., 0.],\n",
              "       [1., 0.],\n",
              "       [0., 1.],\n",
              "       [0., 1.],\n",
              "       [1., 0.],\n",
              "       [0., 1.],\n",
              "       [1., 0.],\n",
              "       [1., 0.],\n",
              "       [0., 1.],\n",
              "       [0., 1.],\n",
              "       [0., 1.],\n",
              "       [1., 0.],\n",
              "       [0., 1.],\n",
              "       [1., 0.],\n",
              "       [1., 0.],\n",
              "       [1., 0.],\n",
              "       [0., 1.],\n",
              "       [0., 1.],\n",
              "       [0., 1.],\n",
              "       [1., 0.],\n",
              "       [0., 1.],\n",
              "       [0., 1.],\n",
              "       [0., 1.],\n",
              "       [1., 0.],\n",
              "       [0., 1.],\n",
              "       [0., 1.],\n",
              "       [0., 1.],\n",
              "       [1., 0.],\n",
              "       [0., 1.],\n",
              "       [1., 0.],\n",
              "       [0., 1.],\n",
              "       [0., 1.],\n",
              "       [1., 0.],\n",
              "       [1., 0.],\n",
              "       [0., 1.],\n",
              "       [0., 1.],\n",
              "       [1., 0.],\n",
              "       [0., 1.],\n",
              "       [1., 0.],\n",
              "       [1., 0.],\n",
              "       [1., 0.],\n",
              "       [0., 1.],\n",
              "       [1., 0.],\n",
              "       [0., 1.],\n",
              "       [0., 1.],\n",
              "       [0., 1.],\n",
              "       [0., 1.],\n",
              "       [0., 1.],\n",
              "       [1., 0.],\n",
              "       [0., 1.],\n",
              "       [0., 1.],\n",
              "       [0., 1.],\n",
              "       [0., 1.],\n",
              "       [1., 0.],\n",
              "       [1., 0.],\n",
              "       [1., 0.],\n",
              "       [0., 1.],\n",
              "       [1., 0.],\n",
              "       [0., 1.],\n",
              "       [1., 0.],\n",
              "       [0., 1.],\n",
              "       [0., 1.],\n",
              "       [1., 0.],\n",
              "       [1., 0.],\n",
              "       [0., 1.],\n",
              "       [0., 1.],\n",
              "       [0., 1.],\n",
              "       [0., 1.],\n",
              "       [1., 0.],\n",
              "       [0., 1.],\n",
              "       [0., 1.],\n",
              "       [1., 0.],\n",
              "       [1., 0.],\n",
              "       [0., 1.],\n",
              "       [0., 1.],\n",
              "       [1., 0.],\n",
              "       [0., 1.],\n",
              "       [1., 0.],\n",
              "       [1., 0.],\n",
              "       [0., 1.],\n",
              "       [1., 0.],\n",
              "       [1., 0.],\n",
              "       [0., 1.],\n",
              "       [0., 1.],\n",
              "       [0., 1.],\n",
              "       [1., 0.],\n",
              "       [1., 0.],\n",
              "       [1., 0.],\n",
              "       [1., 0.],\n",
              "       [0., 1.],\n",
              "       [0., 1.],\n",
              "       [0., 1.],\n",
              "       [0., 1.],\n",
              "       [0., 1.],\n",
              "       [1., 0.],\n",
              "       [0., 1.],\n",
              "       [1., 0.],\n",
              "       [1., 0.],\n",
              "       [1., 0.],\n",
              "       [0., 1.],\n",
              "       [0., 1.]], dtype=float32)"
            ]
          },
          "metadata": {},
          "execution_count": 83
        }
      ]
    },
    {
      "cell_type": "code",
      "source": [
        "y_test"
      ],
      "metadata": {
        "colab": {
          "base_uri": "https://localhost:8080/"
        },
        "id": "jORaqiEEnSrb",
        "outputId": "c39531cc-c142-4eb4-9b28-03583ac32d32"
      },
      "execution_count": 82,
      "outputs": [
        {
          "output_type": "execute_result",
          "data": {
            "text/plain": [
              "array([[1., 0.],\n",
              "       [1., 0.],\n",
              "       [0., 1.],\n",
              "       [1., 0.],\n",
              "       [1., 0.],\n",
              "       [1., 0.],\n",
              "       [0., 1.],\n",
              "       [1., 0.],\n",
              "       [0., 1.],\n",
              "       [1., 0.],\n",
              "       [0., 1.],\n",
              "       [1., 0.],\n",
              "       [1., 0.],\n",
              "       [1., 0.],\n",
              "       [1., 0.],\n",
              "       [1., 0.],\n",
              "       [1., 0.],\n",
              "       [0., 1.],\n",
              "       [1., 0.],\n",
              "       [1., 0.],\n",
              "       [0., 1.],\n",
              "       [0., 1.],\n",
              "       [1., 0.],\n",
              "       [0., 1.],\n",
              "       [0., 1.],\n",
              "       [1., 0.],\n",
              "       [0., 1.],\n",
              "       [1., 0.],\n",
              "       [1., 0.],\n",
              "       [0., 1.],\n",
              "       [0., 1.],\n",
              "       [0., 1.],\n",
              "       [1., 0.],\n",
              "       [0., 1.],\n",
              "       [1., 0.],\n",
              "       [1., 0.],\n",
              "       [1., 0.],\n",
              "       [0., 1.],\n",
              "       [0., 1.],\n",
              "       [0., 1.],\n",
              "       [1., 0.],\n",
              "       [1., 0.],\n",
              "       [0., 1.],\n",
              "       [0., 1.],\n",
              "       [1., 0.],\n",
              "       [0., 1.],\n",
              "       [0., 1.],\n",
              "       [1., 0.],\n",
              "       [1., 0.],\n",
              "       [0., 1.],\n",
              "       [1., 0.],\n",
              "       [0., 1.],\n",
              "       [1., 0.],\n",
              "       [0., 1.],\n",
              "       [1., 0.],\n",
              "       [0., 1.],\n",
              "       [0., 1.],\n",
              "       [1., 0.],\n",
              "       [0., 1.],\n",
              "       [1., 0.],\n",
              "       [1., 0.],\n",
              "       [1., 0.],\n",
              "       [0., 1.],\n",
              "       [0., 1.],\n",
              "       [0., 1.],\n",
              "       [0., 1.],\n",
              "       [0., 1.],\n",
              "       [0., 1.],\n",
              "       [0., 1.],\n",
              "       [1., 0.],\n",
              "       [0., 1.],\n",
              "       [0., 1.],\n",
              "       [1., 0.],\n",
              "       [0., 1.],\n",
              "       [1., 0.],\n",
              "       [0., 1.],\n",
              "       [1., 0.],\n",
              "       [0., 1.],\n",
              "       [0., 1.],\n",
              "       [0., 1.],\n",
              "       [1., 0.],\n",
              "       [0., 1.],\n",
              "       [0., 1.],\n",
              "       [1., 0.],\n",
              "       [1., 0.],\n",
              "       [0., 1.],\n",
              "       [0., 1.],\n",
              "       [0., 1.],\n",
              "       [0., 1.],\n",
              "       [1., 0.],\n",
              "       [0., 1.],\n",
              "       [0., 1.],\n",
              "       [1., 0.],\n",
              "       [0., 1.],\n",
              "       [0., 1.],\n",
              "       [0., 1.],\n",
              "       [1., 0.],\n",
              "       [0., 1.],\n",
              "       [1., 0.],\n",
              "       [1., 0.],\n",
              "       [1., 0.],\n",
              "       [1., 0.],\n",
              "       [1., 0.],\n",
              "       [0., 1.],\n",
              "       [0., 1.],\n",
              "       [0., 1.],\n",
              "       [1., 0.],\n",
              "       [1., 0.],\n",
              "       [1., 0.],\n",
              "       [1., 0.],\n",
              "       [0., 1.],\n",
              "       [0., 1.],\n",
              "       [0., 1.],\n",
              "       [1., 0.],\n",
              "       [0., 1.],\n",
              "       [1., 0.],\n",
              "       [0., 1.],\n",
              "       [0., 1.],\n",
              "       [1., 0.],\n",
              "       [0., 1.],\n",
              "       [1., 0.],\n",
              "       [0., 1.]], dtype=float32)"
            ]
          },
          "metadata": {},
          "execution_count": 82
        }
      ]
    },
    {
      "cell_type": "code",
      "source": [],
      "metadata": {
        "id": "usOFpqxtnWkH"
      },
      "execution_count": null,
      "outputs": []
    }
  ],
  "metadata": {
    "kernelspec": {
      "display_name": "Python 3",
      "name": "python3"
    },
    "language_info": {
      "codemirror_mode": {
        "name": "ipython",
        "version": 3
      },
      "file_extension": ".py",
      "mimetype": "text/x-python",
      "name": "python",
      "nbconvert_exporter": "python",
      "pygments_lexer": "ipython3",
      "version": "3.11.3"
    },
    "orig_nbformat": 4,
    "colab": {
      "provenance": [],
      "gpuType": "T4"
    },
    "accelerator": "GPU"
  },
  "nbformat": 4,
  "nbformat_minor": 0
}