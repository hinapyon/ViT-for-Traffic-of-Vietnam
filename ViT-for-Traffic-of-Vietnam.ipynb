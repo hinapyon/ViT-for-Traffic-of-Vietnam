{
  "cells": [
    {
      "cell_type": "code",
      "execution_count": 1,
      "metadata": {
        "id": "FIL5JwkLvmgF"
      },
      "outputs": [],
      "source": [
        "#ライブラリをインポート\n",
        "import os #OSに依存する様々な機能を利用するためのモジュール(ファイルやディレクトリ操作など)\n",
        "import re #正規表現を利用するためのモジュール\n",
        "import csv  #csvファイルを扱うためのモジュール\n",
        "import math #数学的計算のためのモジュール\n",
        "import cv2 #画像処理のためのモジュール\n",
        "import matplotlib.pyplot as plt #グラフ描画のためのモジュール\n",
        "import numpy as np  #多次元配列計算のためのモジュール\n",
        "import pandas as pd #データフレームを扱うためのモジュール\n",
        "from scipy import signal  #信号処理のためのモジュール\n",
        "from scipy.stats import skew, kurtosis  #歪度と尖度を調べるためのモジュール\n",
        "from sklearn.model_selection import train_test_split  #データをトレーニング用とテスト用に分けるためのモジュール\n",
        "from sklearn import preprocessing #データを正規化するためのモジュール\n",
        "from sklearn.preprocessing import StandardScaler  #データを標準化するためのモジュール\n",
        "from sklearn.preprocessing import LabelEncoder  #カテゴリ変数を数値化するためのモジュール\n",
        "from sklearn.metrics import accuracy_score, mean_squared_error, mean_absolute_error, r2_score #機械学習モデルの性能評価のためのモジュール\n",
        "import tensorflow as tf #TensorFlow(Googleが開発したオープンソースの機械学習フレームワーク)\n",
        "from tensorflow import keras  #TensorFlow用のニューラルネットワークライブラリAPI\n",
        "from tensorflow.keras import layers #ニューラルネットワークのレイヤーを定義するためのモジュール"
      ]
    },
    {
      "cell_type": "code",
      "source": [
        "#メモ\n",
        "#画像のサイズは縦：横=1088:1920=17:30"
      ],
      "metadata": {
        "id": "uBng5g_POIMN"
      },
      "execution_count": null,
      "outputs": []
    },
    {
      "cell_type": "code",
      "source": [
        "#自分のGoogle Driveとドッキング\n",
        "from google.colab import drive\n",
        "drive.mount('/content/drive')"
      ],
      "metadata": {
        "id": "mA1YMpwR6sKj",
        "outputId": "d253e080-ecba-49af-9676-4ca26ca98bf8",
        "colab": {
          "base_uri": "https://localhost:8080/"
        }
      },
      "execution_count": 2,
      "outputs": [
        {
          "output_type": "stream",
          "name": "stdout",
          "text": [
            "Mounted at /content/drive\n"
          ]
        }
      ]
    },
    {
      "cell_type": "code",
      "source": [
        "#GPUを使うための処理\n",
        "import tensorflow as tf\n",
        "device_name = tf.test.gpu_device_name()\n",
        "if device_name != '/device:GPU:0':\n",
        "  raise SystemError('GPU device not found')\n",
        "print('Found GPU at: {}'.format(device_name))"
      ],
      "metadata": {
        "id": "mLiR9zG46pL4",
        "outputId": "9f437221-c478-41d1-ef4b-5e28584cc4aa",
        "colab": {
          "base_uri": "https://localhost:8080/"
        }
      },
      "execution_count": 3,
      "outputs": [
        {
          "output_type": "stream",
          "name": "stdout",
          "text": [
            "Found GPU at: /device:GPU:0\n"
          ]
        }
      ]
    },
    {
      "cell_type": "code",
      "source": [
        "#正解データへのパスとファイル名取得\n",
        "CollectPath = \"/content/drive/MyDrive/DICOMO/正解データ/\"\n",
        "CollectFilename = os.listdir(CollectPath)"
      ],
      "metadata": {
        "id": "x6tK7UwN6wjE"
      },
      "execution_count": 53,
      "outputs": []
    },
    {
      "cell_type": "code",
      "source": [
        "#不正解データへのパスとファイル名取得\n",
        "IncollectPath = \"/content/drive/MyDrive/DICOMO/不正解データ/\"\n",
        "IncollectFilename = os.listdir(IncollectPath)"
      ],
      "metadata": {
        "id": "1d7zUuH065Sd"
      },
      "execution_count": 54,
      "outputs": []
    },
    {
      "cell_type": "code",
      "source": [
        "#教師データを格納するリストを定義\n",
        "img = []"
      ],
      "metadata": {
        "id": "xf2vfG5A-9Sn"
      },
      "execution_count": 66,
      "outputs": []
    },
    {
      "cell_type": "code",
      "source": [
        "#正解データをグレースケールに変換・縦170横300にリサイズ\n",
        "for i in CollectFilename:\n",
        "     image = cv2.imread(CollectPath+i)\n",
        "     image = cv2.cvtColor(image, cv2.COLOR_BGR2GRAY)\n",
        "     image = cv2.resize(image, dsize=(300, 170))\n",
        "     img.append(image)"
      ],
      "metadata": {
        "id": "9Da_Q-hE7W1h"
      },
      "execution_count": 64,
      "outputs": []
    },
    {
      "cell_type": "code",
      "source": [
        "#不正解データをグレースケールに変換・縦170横300にリサイズ\n",
        "for i in CollectFilename:\n",
        "     image = cv2.imread(CollectPath+i)\n",
        "     image = cv2.cvtColor(image, cv2.COLOR_BGR2GRAY)\n",
        "     image = cv2.resize(image, dsize=(300, 170))\n",
        "     img.append(image)"
      ],
      "metadata": {
        "id": "Y_7SmlmiEdxb"
      },
      "execution_count": 55,
      "outputs": []
    },
    {
      "cell_type": "code",
      "source": [
        "#教師ラベルを作成\n",
        "#渡れる時を1、渡れない時を0とする\n",
        "CollectLabel = np.ones(len(CollectFilename))\n",
        "IncollectLabel = np.zeros(len(IncollectFilename))\n",
        "label = np.concatenate((CollectLabel, IncollectLabel))"
      ],
      "metadata": {
        "id": "3P6f3AUkK37r"
      },
      "execution_count": 67,
      "outputs": []
    },
    {
      "cell_type": "code",
      "execution_count": null,
      "metadata": {
        "id": "LTzgPvYpvmgI"
      },
      "outputs": [],
      "source": [
        "#マクロの定義\n",
        "N = 1 #Encoderの層の数\n",
        "NUM_HEADS =  16\n",
        "KEY_DIM = 600\n",
        "DROPOUT = 0.1 #ドロップアウト率"
      ]
    },
    {
      "cell_type": "code",
      "source": [
        "#トレーニングデータとテストデータの分割\n",
        "x_train, x_test, y_train, y_test = train_test_split(img, label, train_size = 0.8, shuffle = True)"
      ],
      "metadata": {
        "id": "etta0ZrRNH89"
      },
      "execution_count": null,
      "outputs": []
    },
    {
      "cell_type": "code",
      "execution_count": null,
      "metadata": {
        "id": "wtuGZkGEvmgJ"
      },
      "outputs": [],
      "source": [
        "# Define the input shape\n",
        "input_shape = (170, 300)\n",
        "output_shape = (1,)\n",
        "\n",
        "#形を定義(このモジュールは行列でないとダメっぽい)\n",
        "inputs_encoder = layers.Input(shape=input_shape)\n",
        "inputs_decoder = layers.Input(shape=output_shape)"
      ]
    },
    {
      "cell_type": "code",
      "execution_count": null,
      "metadata": {
        "id": "IetrZZbZvmgJ"
      },
      "outputs": [],
      "source": [
        "#Encoderに対する入力の形状\n",
        "x_encoder = layers.Reshape((85, 600))(inputs_encoder)"
      ]
    },
    {
      "cell_type": "code",
      "execution_count": null,
      "metadata": {
        "id": "a5rxcbGMvmgK"
      },
      "outputs": [],
      "source": [
        "#Transformer Encoder Layer(BERT)\n",
        "for i in range(N):\n",
        "      #Multi-Head-Attention Layer\n",
        "      attention_encoder = layers.MultiHeadAttention(num_heads=NUM_HEADS, key_dim=KEY_DIM, use_bias=True)(x_encoder, x_encoder, x_encoder)\n",
        "\n",
        "      #Dropout Layer\n",
        "      attention_encoder = layers.Dropout(rate=DROPOUT)(attention_encoder)\n",
        "      #Add & Norm Layer\n",
        "      attention_encoder = layers.LayerNormalization()(x_encoder + attention_encoder)\n",
        "\n",
        "      #Feed-Forward-Network\n",
        "      ffn_encoder = layers.Dense(600 * 4, use_bias=True, activation=\"relu\")(attention_encoder)\n",
        "      ffn_encoder = layers.Dense(600, use_bias=True)(ffn_encoder)\n",
        "\n",
        "      #Dropout Layer\n",
        "      ffn_encoder = layers.Dropout(rate=DROPOUT)(ffn_encoder)\n",
        "      #Add & Norm Layer\n",
        "      x_encoder = layers.LayerNormalization()(attention_encoder + ffn_encoder)"
      ]
    },
    {
      "cell_type": "code",
      "execution_count": null,
      "metadata": {
        "id": "pHb0FNugvmgK"
      },
      "outputs": [],
      "source": [
        "x = layers.Flatten()(x_encoder)\n",
        "x = layers.Dense(256, activation=\"relu\")(x)\n",
        "x = layers.Dropout(0.1)(x)\n",
        "x = layers.Dense(64, activation=\"relu\")(x)\n",
        "x = layers.Dropout(0.1)(x)\n",
        "outputs = layers.Dense(1, activation=\"sigmoid\")(x)"
      ]
    },
    {
      "cell_type": "code",
      "execution_count": null,
      "metadata": {
        "id": "d1g0p_6xvmgL"
      },
      "outputs": [],
      "source": [
        "model = keras.Model(inputs=inputs_encoder, outputs=outputs)"
      ]
    },
    {
      "cell_type": "code",
      "execution_count": null,
      "metadata": {
        "id": "G_l6F_cPvmgL"
      },
      "outputs": [],
      "source": [
        "# compile model\n",
        "model.compile(\n",
        "    loss='binary_crossentropy',\n",
        "    optimizer='adam',\n",
        "    metrics=['accuracy']\n",
        "    )"
      ]
    },
    {
      "cell_type": "code",
      "source": [
        "model.fit(x_train, y_train, batch_size=32, epochs=300, shuffle=True, validation_split=0.2)\n",
        "y_pred = model.predict(x_test)"
      ],
      "metadata": {
        "id": "UaG-w85ZSawR"
      },
      "execution_count": null,
      "outputs": []
    },
    {
      "cell_type": "code",
      "source": [
        "accuracy_score(y_pred, y_test)"
      ],
      "metadata": {
        "id": "QokD1P28RvRq"
      },
      "execution_count": null,
      "outputs": []
    }
  ],
  "metadata": {
    "kernelspec": {
      "display_name": "Python 3",
      "name": "python3"
    },
    "language_info": {
      "codemirror_mode": {
        "name": "ipython",
        "version": 3
      },
      "file_extension": ".py",
      "mimetype": "text/x-python",
      "name": "python",
      "nbconvert_exporter": "python",
      "pygments_lexer": "ipython3",
      "version": "3.11.3"
    },
    "orig_nbformat": 4,
    "colab": {
      "provenance": [],
      "gpuType": "T4"
    },
    "accelerator": "GPU"
  },
  "nbformat": 4,
  "nbformat_minor": 0
}