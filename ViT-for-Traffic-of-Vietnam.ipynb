{
  "cells": [
    {
      "cell_type": "code",
      "execution_count": 141,
      "metadata": {
        "id": "FIL5JwkLvmgF"
      },
      "outputs": [],
      "source": [
        "#ライブラリをインポート\n",
        "import os #OSに依存する様々な機能を利用するためのモジュール(ファイルやディレクトリ操作など)\n",
        "import re #正規表現を利用するためのモジュール\n",
        "import csv  #csvファイルを扱うためのモジュール\n",
        "import math #数学的計算のためのモジュール\n",
        "import cv2 #画像処理のためのモジュール\n",
        "import matplotlib.pyplot as plt #グラフ描画のためのモジュール\n",
        "import numpy as np  #多次元配列計算のためのモジュール\n",
        "import pandas as pd #データフレームを扱うためのモジュール\n",
        "from scipy import signal  #信号処理のためのモジュール\n",
        "from scipy.stats import skew, kurtosis  #歪度と尖度を調べるためのモジュール\n",
        "from sklearn.model_selection import train_test_split  #データをトレーニング用とテスト用に分けるためのモジュール\n",
        "from sklearn import preprocessing #データを正規化するためのモジュール\n",
        "from sklearn.preprocessing import StandardScaler  #データを標準化するためのモジュール\n",
        "from sklearn.preprocessing import LabelEncoder  #カテゴリ変数を数値化するためのモジュール\n",
        "from sklearn.metrics import accuracy_score, mean_squared_error, mean_absolute_error, r2_score, f1_score, fbeta_score#機械学習モデルの性能評価のためのモジュール\n",
        "import tensorflow as tf #TensorFlow(Googleが開発したオープンソースの機械学習フレームワーク)\n",
        "from tensorflow import keras  #TensorFlow用のニューラルネットワークライブラリAPI\n",
        "from tensorflow.keras import layers #ニューラルネットワークのレイヤーを定義するためのモジュール\n",
        "from keras.utils import np_utils"
      ]
    },
    {
      "cell_type": "code",
      "source": [
        "#メモ\n",
        "#画像のサイズは縦：横=1088:1920=17:30"
      ],
      "metadata": {
        "id": "uBng5g_POIMN"
      },
      "execution_count": null,
      "outputs": []
    },
    {
      "cell_type": "code",
      "source": [
        "#自分のGoogle Driveとドッキング\n",
        "from google.colab import drive\n",
        "drive.mount('/content/drive')"
      ],
      "metadata": {
        "id": "mA1YMpwR6sKj",
        "colab": {
          "base_uri": "https://localhost:8080/"
        },
        "outputId": "e154a364-4e3d-4f11-fb2f-a5b97024f38f"
      },
      "execution_count": 142,
      "outputs": [
        {
          "output_type": "stream",
          "name": "stdout",
          "text": [
            "Drive already mounted at /content/drive; to attempt to forcibly remount, call drive.mount(\"/content/drive\", force_remount=True).\n"
          ]
        }
      ]
    },
    {
      "cell_type": "code",
      "source": [
        "#GPUを使うための処理\n",
        "import tensorflow as tf\n",
        "device_name = tf.test.gpu_device_name()\n",
        "if device_name != '/device:GPU:0':\n",
        "  raise SystemError('GPU device not found')\n",
        "print('Found GPU at: {}'.format(device_name))"
      ],
      "metadata": {
        "id": "mLiR9zG46pL4",
        "colab": {
          "base_uri": "https://localhost:8080/"
        },
        "outputId": "b9cb41d7-a3f6-430e-95f5-634400b9fb14"
      },
      "execution_count": 143,
      "outputs": [
        {
          "output_type": "stream",
          "name": "stdout",
          "text": [
            "Found GPU at: /device:GPU:0\n"
          ]
        }
      ]
    },
    {
      "cell_type": "code",
      "source": [
        "#マクロの定義\n",
        "N = 1 #Encoderの層の数\n",
        "NUM_HEADS = 8\n",
        "KEY_DIM = 30\n",
        "DROPOUT = 0.1 #ドロップアウト率\n",
        "LENGTH = 240\n",
        "HEIGHT = 136"
      ],
      "metadata": {
        "id": "y4I8paPHeKog"
      },
      "execution_count": 144,
      "outputs": []
    },
    {
      "cell_type": "code",
      "source": [
        "#正解データへのパスとファイル名取得\n",
        "CollectPath = \"/content/drive/MyDrive/DICOMO/正解データ/\"\n",
        "CollectFilename = os.listdir(CollectPath)"
      ],
      "metadata": {
        "id": "x6tK7UwN6wjE"
      },
      "execution_count": 145,
      "outputs": []
    },
    {
      "cell_type": "code",
      "source": [
        "#不正解データへのパスとファイル名取得\n",
        "IncollectPath = \"/content/drive/MyDrive/DICOMO/不正解データ/\"\n",
        "IncollectFilename = os.listdir(IncollectPath)"
      ],
      "metadata": {
        "id": "1d7zUuH065Sd"
      },
      "execution_count": 146,
      "outputs": []
    },
    {
      "cell_type": "code",
      "source": [
        "#教師データを格納するリストを定義\n",
        "img = []"
      ],
      "metadata": {
        "id": "xf2vfG5A-9Sn"
      },
      "execution_count": 147,
      "outputs": []
    },
    {
      "cell_type": "code",
      "source": [
        "#正解データをグレースケールに変換・リサイズ\n",
        "for i in CollectFilename:\n",
        "     image = cv2.imread(CollectPath+i)\n",
        "     image = cv2.cvtColor(image, cv2.COLOR_BGR2GRAY)\n",
        "     image = cv2.resize(image, dsize=(LENGTH, HEIGHT))\n",
        "     img.append(image)"
      ],
      "metadata": {
        "id": "9Da_Q-hE7W1h"
      },
      "execution_count": 148,
      "outputs": []
    },
    {
      "cell_type": "code",
      "source": [
        "#不正解データをグレースケールに変換・リサイズ\n",
        "for i in IncollectFilename:\n",
        "     image = cv2.imread(IncollectPath+i)\n",
        "     image = cv2.cvtColor(image, cv2.COLOR_BGR2GRAY)\n",
        "     image = cv2.resize(image, dsize=(LENGTH, HEIGHT))\n",
        "     img.append(image)"
      ],
      "metadata": {
        "id": "Y_7SmlmiEdxb"
      },
      "execution_count": 149,
      "outputs": []
    },
    {
      "cell_type": "code",
      "source": [
        "#教師ラベルを作成\n",
        "#渡れる時を1、渡れない時を0とする\n",
        "CollectLabel = np.ones(len(CollectFilename))\n",
        "IncollectLabel = np.zeros(len(IncollectFilename))\n",
        "label = np.concatenate((CollectLabel, IncollectLabel))"
      ],
      "metadata": {
        "id": "3P6f3AUkK37r"
      },
      "execution_count": 150,
      "outputs": []
    },
    {
      "cell_type": "code",
      "source": [
        "img = np.array(img)"
      ],
      "metadata": {
        "id": "Gu6PfaPBVpnC"
      },
      "execution_count": 151,
      "outputs": []
    },
    {
      "cell_type": "code",
      "source": [
        "label = np_utils.to_categorical(label)"
      ],
      "metadata": {
        "id": "hZu1xedlXSQ1"
      },
      "execution_count": 152,
      "outputs": []
    },
    {
      "cell_type": "code",
      "source": [
        "#トレーニングデータとテストデータの分割\n",
        "x_train, x_test, y_train, y_test = train_test_split(img, label, train_size = 0.8, shuffle = True)"
      ],
      "metadata": {
        "id": "etta0ZrRNH89"
      },
      "execution_count": 154,
      "outputs": []
    },
    {
      "cell_type": "code",
      "execution_count": 156,
      "metadata": {
        "id": "wtuGZkGEvmgJ"
      },
      "outputs": [],
      "source": [
        "# Define the input shape\n",
        "input_shape = (HEIGHT, LENGTH)\n",
        "output_shape = (1,)\n",
        "\n",
        "#形を定義(このモジュールは行列でないとダメっぽい)\n",
        "x_encoder = layers.Input(shape=input_shape)"
      ]
    },
    {
      "cell_type": "code",
      "execution_count": 157,
      "metadata": {
        "id": "a5rxcbGMvmgK"
      },
      "outputs": [],
      "source": [
        "#Transformer Encoder Layer(BERT)\n",
        "for i in range(N):\n",
        "      #Multi-Head-Attention Layer\n",
        "      attention_encoder = layers.MultiHeadAttention(num_heads=NUM_HEADS, key_dim=KEY_DIM, use_bias=True)(x_encoder, x_encoder, x_encoder)\n",
        "\n",
        "      #Dropout Layer\n",
        "      attention_encoder = layers.Dropout(rate=DROPOUT)(attention_encoder)\n",
        "      #Add & Norm Layer\n",
        "      attention_encoder = layers.LayerNormalization()(x_encoder + attention_encoder)\n",
        "\n",
        "      #Feed-Forward-Network\n",
        "      ffn_encoder = layers.Dense(LENGTH * 4, use_bias=True, activation=\"relu\")(attention_encoder)\n",
        "      ffn_encoder = layers.Dense(LENGTH, use_bias=True)(ffn_encoder)\n",
        "\n",
        "      #Dropout Layer\n",
        "      ffn_encoder = layers.Dropout(rate=DROPOUT)(ffn_encoder)\n",
        "      #Add & Norm Layer\n",
        "      x_encoder = layers.LayerNormalization()(attention_encoder + ffn_encoder)"
      ]
    },
    {
      "cell_type": "code",
      "execution_count": 158,
      "metadata": {
        "id": "pHb0FNugvmgK"
      },
      "outputs": [],
      "source": [
        "x = layers.Flatten()(x_encoder)\n",
        "x = layers.Dropout(0.1)(x)\n",
        "outputs = layers.Dense(2, activation=\"softmax\")(x)"
      ]
    },
    {
      "cell_type": "code",
      "execution_count": 159,
      "metadata": {
        "id": "d1g0p_6xvmgL"
      },
      "outputs": [],
      "source": [
        "model = keras.Model(inputs=x_encoder, outputs=outputs)"
      ]
    },
    {
      "cell_type": "code",
      "execution_count": 160,
      "metadata": {
        "id": "G_l6F_cPvmgL"
      },
      "outputs": [],
      "source": [
        "# compile model\n",
        "model.compile(\n",
        "    loss=\"categorical_crossentropy\",   # 誤差関数\n",
        "    optimizer=\"adam\",     # 最適化手法\n",
        "    metrics=['accuracy']\n",
        "    )"
      ]
    },
    {
      "cell_type": "code",
      "source": [
        "model.fit(x_train, y_train, batch_size=32, epochs=50, shuffle=True, validation_split=0.2)"
      ],
      "metadata": {
        "colab": {
          "base_uri": "https://localhost:8080/"
        },
        "id": "UaG-w85ZSawR",
        "outputId": "e64533d8-76b7-4579-e125-667a8802748b"
      },
      "execution_count": 161,
      "outputs": [
        {
          "output_type": "stream",
          "name": "stdout",
          "text": [
            "Epoch 1/50\n",
            "13/13 [==============================] - 1s 20ms/step - loss: 2660.1548 - accuracy: 0.5013 - val_loss: 1625.2693 - val_accuracy: 0.5155\n",
            "Epoch 2/50\n",
            "13/13 [==============================] - 0s 8ms/step - loss: 715.3195 - accuracy: 0.6331 - val_loss: 526.2020 - val_accuracy: 0.5773\n",
            "Epoch 3/50\n",
            "13/13 [==============================] - 0s 8ms/step - loss: 328.0065 - accuracy: 0.7080 - val_loss: 331.1321 - val_accuracy: 0.8351\n",
            "Epoch 4/50\n",
            "13/13 [==============================] - 0s 9ms/step - loss: 290.0436 - accuracy: 0.7416 - val_loss: 226.6278 - val_accuracy: 0.6804\n",
            "Epoch 5/50\n",
            "13/13 [==============================] - 0s 8ms/step - loss: 299.7168 - accuracy: 0.7132 - val_loss: 127.7453 - val_accuracy: 0.9072\n",
            "Epoch 6/50\n",
            "13/13 [==============================] - 0s 7ms/step - loss: 129.1030 - accuracy: 0.8295 - val_loss: 170.5486 - val_accuracy: 0.7216\n",
            "Epoch 7/50\n",
            "13/13 [==============================] - 0s 8ms/step - loss: 126.2223 - accuracy: 0.8114 - val_loss: 138.1709 - val_accuracy: 0.8763\n",
            "Epoch 8/50\n",
            "13/13 [==============================] - 0s 8ms/step - loss: 44.4954 - accuracy: 0.9070 - val_loss: 116.9595 - val_accuracy: 0.8866\n",
            "Epoch 9/50\n",
            "13/13 [==============================] - 0s 7ms/step - loss: 58.2658 - accuracy: 0.8786 - val_loss: 83.2190 - val_accuracy: 0.9175\n",
            "Epoch 10/50\n",
            "13/13 [==============================] - 0s 8ms/step - loss: 34.8021 - accuracy: 0.9199 - val_loss: 180.9833 - val_accuracy: 0.7320\n",
            "Epoch 11/50\n",
            "13/13 [==============================] - 0s 7ms/step - loss: 121.7968 - accuracy: 0.7959 - val_loss: 180.4317 - val_accuracy: 0.8041\n",
            "Epoch 12/50\n",
            "13/13 [==============================] - 0s 8ms/step - loss: 104.7867 - accuracy: 0.8036 - val_loss: 608.8337 - val_accuracy: 0.5361\n",
            "Epoch 13/50\n",
            "13/13 [==============================] - 0s 7ms/step - loss: 204.1371 - accuracy: 0.7623 - val_loss: 81.5728 - val_accuracy: 0.8866\n",
            "Epoch 14/50\n",
            "13/13 [==============================] - 0s 8ms/step - loss: 35.9729 - accuracy: 0.9276 - val_loss: 96.8333 - val_accuracy: 0.8866\n",
            "Epoch 15/50\n",
            "13/13 [==============================] - 0s 8ms/step - loss: 28.6270 - accuracy: 0.9225 - val_loss: 95.2399 - val_accuracy: 0.8763\n",
            "Epoch 16/50\n",
            "13/13 [==============================] - 0s 9ms/step - loss: 32.4518 - accuracy: 0.9044 - val_loss: 85.8870 - val_accuracy: 0.8969\n",
            "Epoch 17/50\n",
            "13/13 [==============================] - 0s 7ms/step - loss: 24.5688 - accuracy: 0.9044 - val_loss: 97.5081 - val_accuracy: 0.7732\n",
            "Epoch 18/50\n",
            "13/13 [==============================] - 0s 8ms/step - loss: 77.7386 - accuracy: 0.8140 - val_loss: 82.9773 - val_accuracy: 0.8144\n",
            "Epoch 19/50\n",
            "13/13 [==============================] - 0s 7ms/step - loss: 48.9779 - accuracy: 0.9018 - val_loss: 208.7358 - val_accuracy: 0.6495\n",
            "Epoch 20/50\n",
            "13/13 [==============================] - 0s 7ms/step - loss: 50.6400 - accuracy: 0.9070 - val_loss: 82.9556 - val_accuracy: 0.8763\n",
            "Epoch 21/50\n",
            "13/13 [==============================] - 0s 7ms/step - loss: 69.4072 - accuracy: 0.8398 - val_loss: 150.5508 - val_accuracy: 0.7320\n",
            "Epoch 22/50\n",
            "13/13 [==============================] - 0s 8ms/step - loss: 31.9069 - accuracy: 0.9173 - val_loss: 93.4868 - val_accuracy: 0.9175\n",
            "Epoch 23/50\n",
            "13/13 [==============================] - 0s 8ms/step - loss: 69.4636 - accuracy: 0.8811 - val_loss: 150.4266 - val_accuracy: 0.8866\n",
            "Epoch 24/50\n",
            "13/13 [==============================] - 0s 7ms/step - loss: 43.1111 - accuracy: 0.8992 - val_loss: 121.0994 - val_accuracy: 0.7732\n",
            "Epoch 25/50\n",
            "13/13 [==============================] - 0s 8ms/step - loss: 49.7475 - accuracy: 0.8863 - val_loss: 178.4120 - val_accuracy: 0.7113\n",
            "Epoch 26/50\n",
            "13/13 [==============================] - 0s 7ms/step - loss: 32.0548 - accuracy: 0.9147 - val_loss: 100.1870 - val_accuracy: 0.9278\n",
            "Epoch 27/50\n",
            "13/13 [==============================] - 0s 7ms/step - loss: 12.4511 - accuracy: 0.9535 - val_loss: 108.1718 - val_accuracy: 0.8969\n",
            "Epoch 28/50\n",
            "13/13 [==============================] - 0s 8ms/step - loss: 42.5389 - accuracy: 0.8966 - val_loss: 271.9893 - val_accuracy: 0.6082\n",
            "Epoch 29/50\n",
            "13/13 [==============================] - 0s 7ms/step - loss: 48.7129 - accuracy: 0.8811 - val_loss: 75.6231 - val_accuracy: 0.8969\n",
            "Epoch 30/50\n",
            "13/13 [==============================] - 0s 7ms/step - loss: 8.8498 - accuracy: 0.9561 - val_loss: 80.5159 - val_accuracy: 0.8969\n",
            "Epoch 31/50\n",
            "13/13 [==============================] - 0s 7ms/step - loss: 5.2129 - accuracy: 0.9793 - val_loss: 81.8899 - val_accuracy: 0.8247\n",
            "Epoch 32/50\n",
            "13/13 [==============================] - 0s 7ms/step - loss: 3.5958 - accuracy: 0.9767 - val_loss: 65.6625 - val_accuracy: 0.9072\n",
            "Epoch 33/50\n",
            "13/13 [==============================] - 0s 9ms/step - loss: 0.3384 - accuracy: 0.9948 - val_loss: 66.5221 - val_accuracy: 0.9278\n",
            "Epoch 34/50\n",
            "13/13 [==============================] - 0s 9ms/step - loss: 0.0686 - accuracy: 0.9974 - val_loss: 62.3258 - val_accuracy: 0.9072\n",
            "Epoch 35/50\n",
            "13/13 [==============================] - 0s 7ms/step - loss: 1.5295 - accuracy: 0.9871 - val_loss: 60.4601 - val_accuracy: 0.9072\n",
            "Epoch 36/50\n",
            "13/13 [==============================] - 0s 8ms/step - loss: 7.3250 - accuracy: 0.9561 - val_loss: 93.9002 - val_accuracy: 0.9072\n",
            "Epoch 37/50\n",
            "13/13 [==============================] - 0s 8ms/step - loss: 3.9090 - accuracy: 0.9819 - val_loss: 104.5835 - val_accuracy: 0.8969\n",
            "Epoch 38/50\n",
            "13/13 [==============================] - 0s 8ms/step - loss: 10.9951 - accuracy: 0.9509 - val_loss: 80.3147 - val_accuracy: 0.8144\n",
            "Epoch 39/50\n",
            "13/13 [==============================] - 0s 9ms/step - loss: 5.6123 - accuracy: 0.9638 - val_loss: 119.6489 - val_accuracy: 0.8866\n",
            "Epoch 40/50\n",
            "13/13 [==============================] - 0s 8ms/step - loss: 1.6399 - accuracy: 0.9845 - val_loss: 80.7119 - val_accuracy: 0.9175\n",
            "Epoch 41/50\n",
            "13/13 [==============================] - 0s 8ms/step - loss: 0.1089 - accuracy: 0.9974 - val_loss: 69.0791 - val_accuracy: 0.8557\n",
            "Epoch 42/50\n",
            "13/13 [==============================] - 0s 11ms/step - loss: 0.1607 - accuracy: 0.9974 - val_loss: 91.9165 - val_accuracy: 0.9072\n",
            "Epoch 43/50\n",
            "13/13 [==============================] - 0s 12ms/step - loss: 1.2039 - accuracy: 0.9974 - val_loss: 66.9818 - val_accuracy: 0.8763\n",
            "Epoch 44/50\n",
            "13/13 [==============================] - 0s 10ms/step - loss: 14.8890 - accuracy: 0.9561 - val_loss: 61.0298 - val_accuracy: 0.9072\n",
            "Epoch 45/50\n",
            "13/13 [==============================] - 0s 13ms/step - loss: 8.1529 - accuracy: 0.9664 - val_loss: 72.1162 - val_accuracy: 0.8969\n",
            "Epoch 46/50\n",
            "13/13 [==============================] - 0s 11ms/step - loss: 0.3626 - accuracy: 0.9922 - val_loss: 65.0934 - val_accuracy: 0.8866\n",
            "Epoch 47/50\n",
            "13/13 [==============================] - 0s 10ms/step - loss: 0.0675 - accuracy: 0.9974 - val_loss: 63.0624 - val_accuracy: 0.9072\n",
            "Epoch 48/50\n",
            "13/13 [==============================] - 0s 11ms/step - loss: 0.3450 - accuracy: 0.9974 - val_loss: 62.1219 - val_accuracy: 0.8969\n",
            "Epoch 49/50\n",
            "13/13 [==============================] - 0s 12ms/step - loss: 0.8222 - accuracy: 0.9948 - val_loss: 74.1607 - val_accuracy: 0.8969\n",
            "Epoch 50/50\n",
            "13/13 [==============================] - 0s 11ms/step - loss: 0.0000e+00 - accuracy: 1.0000 - val_loss: 63.5882 - val_accuracy: 0.8763\n",
            "4/4 [==============================] - 0s 6ms/step\n"
          ]
        }
      ]
    },
    {
      "cell_type": "code",
      "source": [
        "y_pred = model.predict(x_test)"
      ],
      "metadata": {
        "id": "-Tz88N7zw8Bi",
        "outputId": "6237db2c-aa13-47b1-954b-d3547ef2f871",
        "colab": {
          "base_uri": "https://localhost:8080/",
          "height": 181
        }
      },
      "execution_count": 167,
      "outputs": [
        {
          "output_type": "stream",
          "name": "stdout",
          "text": [
            "4/4 [==============================] - 0s 5ms/step\n"
          ]
        },
        {
          "output_type": "error",
          "ename": "TypeError",
          "evalue": "ignored",
          "traceback": [
            "\u001b[0;31m---------------------------------------------------------------------------\u001b[0m",
            "\u001b[0;31mTypeError\u001b[0m                                 Traceback (most recent call last)",
            "\u001b[0;32m<ipython-input-167-46bdd08f49a9>\u001b[0m in \u001b[0;36m<cell line: 1>\u001b[0;34m()\u001b[0m\n\u001b[0;32m----> 1\u001b[0;31m \u001b[0my_pred\u001b[0m \u001b[0;34m=\u001b[0m \u001b[0mint\u001b[0m\u001b[0;34m(\u001b[0m\u001b[0mmodel\u001b[0m\u001b[0;34m.\u001b[0m\u001b[0mpredict\u001b[0m\u001b[0;34m(\u001b[0m\u001b[0mx_test\u001b[0m\u001b[0;34m)\u001b[0m\u001b[0;34m)\u001b[0m\u001b[0;34m\u001b[0m\u001b[0;34m\u001b[0m\u001b[0m\n\u001b[0m",
            "\u001b[0;31mTypeError\u001b[0m: only size-1 arrays can be converted to Python scalars"
          ]
        }
      ]
    },
    {
      "cell_type": "code",
      "source": [
        "accuracy_score(y_test, y_pred)"
      ],
      "metadata": {
        "id": "g3HUG-K3nkDG",
        "outputId": "450309a7-a483-42a0-c992-8ca3ebc42685",
        "colab": {
          "base_uri": "https://localhost:8080/",
          "height": 307
        }
      },
      "execution_count": 162,
      "outputs": [
        {
          "output_type": "error",
          "ename": "ValueError",
          "evalue": "ignored",
          "traceback": [
            "\u001b[0;31m---------------------------------------------------------------------------\u001b[0m",
            "\u001b[0;31mValueError\u001b[0m                                Traceback (most recent call last)",
            "\u001b[0;32m<ipython-input-162-b123e04c5193>\u001b[0m in \u001b[0;36m<cell line: 1>\u001b[0;34m()\u001b[0m\n\u001b[0;32m----> 1\u001b[0;31m \u001b[0maccuracy_score\u001b[0m\u001b[0;34m(\u001b[0m\u001b[0my_test\u001b[0m\u001b[0;34m,\u001b[0m \u001b[0my_pred\u001b[0m\u001b[0;34m)\u001b[0m\u001b[0;34m\u001b[0m\u001b[0;34m\u001b[0m\u001b[0m\n\u001b[0m",
            "\u001b[0;32m/usr/local/lib/python3.10/dist-packages/sklearn/utils/_param_validation.py\u001b[0m in \u001b[0;36mwrapper\u001b[0;34m(*args, **kwargs)\u001b[0m\n\u001b[1;32m    190\u001b[0m \u001b[0;34m\u001b[0m\u001b[0m\n\u001b[1;32m    191\u001b[0m             \u001b[0;32mtry\u001b[0m\u001b[0;34m:\u001b[0m\u001b[0;34m\u001b[0m\u001b[0;34m\u001b[0m\u001b[0m\n\u001b[0;32m--> 192\u001b[0;31m                 \u001b[0;32mreturn\u001b[0m \u001b[0mfunc\u001b[0m\u001b[0;34m(\u001b[0m\u001b[0;34m*\u001b[0m\u001b[0margs\u001b[0m\u001b[0;34m,\u001b[0m \u001b[0;34m**\u001b[0m\u001b[0mkwargs\u001b[0m\u001b[0;34m)\u001b[0m\u001b[0;34m\u001b[0m\u001b[0;34m\u001b[0m\u001b[0m\n\u001b[0m\u001b[1;32m    193\u001b[0m             \u001b[0;32mexcept\u001b[0m \u001b[0mInvalidParameterError\u001b[0m \u001b[0;32mas\u001b[0m \u001b[0me\u001b[0m\u001b[0;34m:\u001b[0m\u001b[0;34m\u001b[0m\u001b[0;34m\u001b[0m\u001b[0m\n\u001b[1;32m    194\u001b[0m                 \u001b[0;31m# When the function is just a wrapper around an estimator, we allow\u001b[0m\u001b[0;34m\u001b[0m\u001b[0;34m\u001b[0m\u001b[0m\n",
            "\u001b[0;32m/usr/local/lib/python3.10/dist-packages/sklearn/metrics/_classification.py\u001b[0m in \u001b[0;36maccuracy_score\u001b[0;34m(y_true, y_pred, normalize, sample_weight)\u001b[0m\n\u001b[1;32m    219\u001b[0m \u001b[0;34m\u001b[0m\u001b[0m\n\u001b[1;32m    220\u001b[0m     \u001b[0;31m# Compute accuracy for each possible representation\u001b[0m\u001b[0;34m\u001b[0m\u001b[0;34m\u001b[0m\u001b[0m\n\u001b[0;32m--> 221\u001b[0;31m     \u001b[0my_type\u001b[0m\u001b[0;34m,\u001b[0m \u001b[0my_true\u001b[0m\u001b[0;34m,\u001b[0m \u001b[0my_pred\u001b[0m \u001b[0;34m=\u001b[0m \u001b[0m_check_targets\u001b[0m\u001b[0;34m(\u001b[0m\u001b[0my_true\u001b[0m\u001b[0;34m,\u001b[0m \u001b[0my_pred\u001b[0m\u001b[0;34m)\u001b[0m\u001b[0;34m\u001b[0m\u001b[0;34m\u001b[0m\u001b[0m\n\u001b[0m\u001b[1;32m    222\u001b[0m     \u001b[0mcheck_consistent_length\u001b[0m\u001b[0;34m(\u001b[0m\u001b[0my_true\u001b[0m\u001b[0;34m,\u001b[0m \u001b[0my_pred\u001b[0m\u001b[0;34m,\u001b[0m \u001b[0msample_weight\u001b[0m\u001b[0;34m)\u001b[0m\u001b[0;34m\u001b[0m\u001b[0;34m\u001b[0m\u001b[0m\n\u001b[1;32m    223\u001b[0m     \u001b[0;32mif\u001b[0m \u001b[0my_type\u001b[0m\u001b[0;34m.\u001b[0m\u001b[0mstartswith\u001b[0m\u001b[0;34m(\u001b[0m\u001b[0;34m\"multilabel\"\u001b[0m\u001b[0;34m)\u001b[0m\u001b[0;34m:\u001b[0m\u001b[0;34m\u001b[0m\u001b[0;34m\u001b[0m\u001b[0m\n",
            "\u001b[0;32m/usr/local/lib/python3.10/dist-packages/sklearn/metrics/_classification.py\u001b[0m in \u001b[0;36m_check_targets\u001b[0;34m(y_true, y_pred)\u001b[0m\n\u001b[1;32m     93\u001b[0m \u001b[0;34m\u001b[0m\u001b[0m\n\u001b[1;32m     94\u001b[0m     \u001b[0;32mif\u001b[0m \u001b[0mlen\u001b[0m\u001b[0;34m(\u001b[0m\u001b[0my_type\u001b[0m\u001b[0;34m)\u001b[0m \u001b[0;34m>\u001b[0m \u001b[0;36m1\u001b[0m\u001b[0;34m:\u001b[0m\u001b[0;34m\u001b[0m\u001b[0;34m\u001b[0m\u001b[0m\n\u001b[0;32m---> 95\u001b[0;31m         raise ValueError(\n\u001b[0m\u001b[1;32m     96\u001b[0m             \"Classification metrics can't handle a mix of {0} and {1} targets\".format(\n\u001b[1;32m     97\u001b[0m                 \u001b[0mtype_true\u001b[0m\u001b[0;34m,\u001b[0m \u001b[0mtype_pred\u001b[0m\u001b[0;34m\u001b[0m\u001b[0;34m\u001b[0m\u001b[0m\n",
            "\u001b[0;31mValueError\u001b[0m: Classification metrics can't handle a mix of multilabel-indicator and continuous-multioutput targets"
          ]
        }
      ]
    },
    {
      "cell_type": "code",
      "source": [
        "y_pred"
      ],
      "metadata": {
        "id": "usOFpqxtnWkH",
        "colab": {
          "base_uri": "https://localhost:8080/"
        },
        "outputId": "cee1a44b-70e9-4c93-86f7-3366909f2485"
      },
      "execution_count": 164,
      "outputs": [
        {
          "output_type": "execute_result",
          "data": {
            "text/plain": [
              "array([[0.0000000e+00, 1.0000000e+00],\n",
              "       [1.0000000e+00, 0.0000000e+00],\n",
              "       [0.0000000e+00, 1.0000000e+00],\n",
              "       [0.0000000e+00, 1.0000000e+00],\n",
              "       [0.0000000e+00, 1.0000000e+00],\n",
              "       [1.0000000e+00, 0.0000000e+00],\n",
              "       [1.0578864e-18, 1.0000000e+00],\n",
              "       [1.0000000e+00, 0.0000000e+00],\n",
              "       [1.0000000e+00, 0.0000000e+00],\n",
              "       [0.0000000e+00, 1.0000000e+00],\n",
              "       [0.0000000e+00, 1.0000000e+00],\n",
              "       [1.0000000e+00, 0.0000000e+00],\n",
              "       [0.0000000e+00, 1.0000000e+00],\n",
              "       [1.0000000e+00, 0.0000000e+00],\n",
              "       [0.0000000e+00, 1.0000000e+00],\n",
              "       [1.0000000e+00, 0.0000000e+00],\n",
              "       [1.0000000e+00, 0.0000000e+00],\n",
              "       [0.0000000e+00, 1.0000000e+00],\n",
              "       [1.0000000e+00, 0.0000000e+00],\n",
              "       [1.0000000e+00, 0.0000000e+00],\n",
              "       [1.0000000e+00, 0.0000000e+00],\n",
              "       [1.0000000e+00, 0.0000000e+00],\n",
              "       [1.0000000e+00, 0.0000000e+00],\n",
              "       [5.8395087e-11, 1.0000000e+00],\n",
              "       [1.0000000e+00, 0.0000000e+00],\n",
              "       [0.0000000e+00, 1.0000000e+00],\n",
              "       [1.0000000e+00, 0.0000000e+00],\n",
              "       [1.0000000e+00, 0.0000000e+00],\n",
              "       [0.0000000e+00, 1.0000000e+00],\n",
              "       [0.0000000e+00, 1.0000000e+00],\n",
              "       [1.0000000e+00, 0.0000000e+00],\n",
              "       [1.7237445e-29, 1.0000000e+00],\n",
              "       [1.0000000e+00, 0.0000000e+00],\n",
              "       [1.0000000e+00, 0.0000000e+00],\n",
              "       [0.0000000e+00, 1.0000000e+00],\n",
              "       [1.0000000e+00, 0.0000000e+00],\n",
              "       [1.0000000e+00, 0.0000000e+00],\n",
              "       [1.0000000e+00, 0.0000000e+00],\n",
              "       [1.0000000e+00, 4.4583852e-20],\n",
              "       [0.0000000e+00, 1.0000000e+00],\n",
              "       [0.0000000e+00, 1.0000000e+00],\n",
              "       [0.0000000e+00, 1.0000000e+00],\n",
              "       [1.0000000e+00, 0.0000000e+00],\n",
              "       [1.0000000e+00, 0.0000000e+00],\n",
              "       [0.0000000e+00, 1.0000000e+00],\n",
              "       [1.0000000e+00, 0.0000000e+00],\n",
              "       [1.0000000e+00, 0.0000000e+00],\n",
              "       [0.0000000e+00, 1.0000000e+00],\n",
              "       [1.0000000e+00, 0.0000000e+00],\n",
              "       [1.0000000e+00, 0.0000000e+00],\n",
              "       [1.0000000e+00, 0.0000000e+00],\n",
              "       [1.0000000e+00, 0.0000000e+00],\n",
              "       [0.0000000e+00, 1.0000000e+00],\n",
              "       [1.0000000e+00, 0.0000000e+00],\n",
              "       [1.0000000e+00, 0.0000000e+00],\n",
              "       [1.0000000e+00, 0.0000000e+00],\n",
              "       [1.0000000e+00, 0.0000000e+00],\n",
              "       [0.0000000e+00, 1.0000000e+00],\n",
              "       [1.0000000e+00, 0.0000000e+00],\n",
              "       [1.0000000e+00, 0.0000000e+00],\n",
              "       [0.0000000e+00, 1.0000000e+00],\n",
              "       [1.0000000e+00, 0.0000000e+00],\n",
              "       [1.0000000e+00, 0.0000000e+00],\n",
              "       [0.0000000e+00, 1.0000000e+00],\n",
              "       [0.0000000e+00, 1.0000000e+00],\n",
              "       [0.0000000e+00, 1.0000000e+00],\n",
              "       [1.0000000e+00, 0.0000000e+00],\n",
              "       [0.0000000e+00, 1.0000000e+00],\n",
              "       [0.0000000e+00, 1.0000000e+00],\n",
              "       [1.0000000e+00, 0.0000000e+00],\n",
              "       [0.0000000e+00, 1.0000000e+00],\n",
              "       [0.0000000e+00, 1.0000000e+00],\n",
              "       [0.0000000e+00, 1.0000000e+00],\n",
              "       [1.0000000e+00, 0.0000000e+00],\n",
              "       [0.0000000e+00, 1.0000000e+00],\n",
              "       [0.0000000e+00, 1.0000000e+00],\n",
              "       [1.0000000e+00, 0.0000000e+00],\n",
              "       [1.0000000e+00, 0.0000000e+00],\n",
              "       [0.0000000e+00, 1.0000000e+00],\n",
              "       [1.0000000e+00, 0.0000000e+00],\n",
              "       [1.0000000e+00, 0.0000000e+00],\n",
              "       [1.0000000e+00, 0.0000000e+00],\n",
              "       [1.0000000e+00, 0.0000000e+00],\n",
              "       [1.0000000e+00, 0.0000000e+00],\n",
              "       [0.0000000e+00, 1.0000000e+00],\n",
              "       [1.0000000e+00, 0.0000000e+00],\n",
              "       [2.7705025e-28, 1.0000000e+00],\n",
              "       [1.0000000e+00, 0.0000000e+00],\n",
              "       [1.0000000e+00, 0.0000000e+00],\n",
              "       [1.0000000e+00, 0.0000000e+00],\n",
              "       [0.0000000e+00, 1.0000000e+00],\n",
              "       [1.0000000e+00, 0.0000000e+00],\n",
              "       [0.0000000e+00, 1.0000000e+00],\n",
              "       [1.0000000e+00, 0.0000000e+00],\n",
              "       [1.0000000e+00, 8.6093875e-11],\n",
              "       [1.0000000e+00, 0.0000000e+00],\n",
              "       [0.0000000e+00, 1.0000000e+00],\n",
              "       [1.0000000e+00, 0.0000000e+00],\n",
              "       [1.0000000e+00, 0.0000000e+00],\n",
              "       [0.0000000e+00, 1.0000000e+00],\n",
              "       [1.0000000e+00, 0.0000000e+00],\n",
              "       [1.0000000e+00, 0.0000000e+00],\n",
              "       [1.0000000e+00, 0.0000000e+00],\n",
              "       [0.0000000e+00, 1.0000000e+00],\n",
              "       [0.0000000e+00, 1.0000000e+00],\n",
              "       [1.0000000e+00, 0.0000000e+00],\n",
              "       [1.0000000e+00, 0.0000000e+00],\n",
              "       [1.0000000e+00, 0.0000000e+00],\n",
              "       [0.0000000e+00, 1.0000000e+00],\n",
              "       [0.0000000e+00, 1.0000000e+00],\n",
              "       [0.0000000e+00, 1.0000000e+00],\n",
              "       [1.0000000e+00, 0.0000000e+00],\n",
              "       [0.0000000e+00, 1.0000000e+00],\n",
              "       [1.0000000e+00, 0.0000000e+00],\n",
              "       [0.0000000e+00, 1.0000000e+00],\n",
              "       [1.0000000e+00, 0.0000000e+00],\n",
              "       [0.0000000e+00, 1.0000000e+00],\n",
              "       [1.0000000e+00, 0.0000000e+00],\n",
              "       [1.0000000e+00, 0.0000000e+00],\n",
              "       [0.0000000e+00, 1.0000000e+00],\n",
              "       [0.0000000e+00, 1.0000000e+00],\n",
              "       [0.0000000e+00, 1.0000000e+00]], dtype=float32)"
            ]
          },
          "metadata": {},
          "execution_count": 164
        }
      ]
    },
    {
      "cell_type": "code",
      "source": [
        "y_test"
      ],
      "metadata": {
        "id": "dakgXqR1pECz",
        "outputId": "d81ebd1c-55d4-4963-b922-cb87296f23c1",
        "colab": {
          "base_uri": "https://localhost:8080/"
        }
      },
      "execution_count": 165,
      "outputs": [
        {
          "output_type": "execute_result",
          "data": {
            "text/plain": [
              "array([[0., 1.],\n",
              "       [1., 0.],\n",
              "       [0., 1.],\n",
              "       [0., 1.],\n",
              "       [0., 1.],\n",
              "       [1., 0.],\n",
              "       [0., 1.],\n",
              "       [1., 0.],\n",
              "       [1., 0.],\n",
              "       [0., 1.],\n",
              "       [0., 1.],\n",
              "       [1., 0.],\n",
              "       [1., 0.],\n",
              "       [1., 0.],\n",
              "       [0., 1.],\n",
              "       [1., 0.],\n",
              "       [0., 1.],\n",
              "       [0., 1.],\n",
              "       [0., 1.],\n",
              "       [1., 0.],\n",
              "       [1., 0.],\n",
              "       [0., 1.],\n",
              "       [1., 0.],\n",
              "       [0., 1.],\n",
              "       [1., 0.],\n",
              "       [0., 1.],\n",
              "       [0., 1.],\n",
              "       [1., 0.],\n",
              "       [0., 1.],\n",
              "       [0., 1.],\n",
              "       [1., 0.],\n",
              "       [0., 1.],\n",
              "       [0., 1.],\n",
              "       [0., 1.],\n",
              "       [0., 1.],\n",
              "       [1., 0.],\n",
              "       [1., 0.],\n",
              "       [1., 0.],\n",
              "       [0., 1.],\n",
              "       [0., 1.],\n",
              "       [0., 1.],\n",
              "       [0., 1.],\n",
              "       [1., 0.],\n",
              "       [1., 0.],\n",
              "       [0., 1.],\n",
              "       [1., 0.],\n",
              "       [0., 1.],\n",
              "       [0., 1.],\n",
              "       [1., 0.],\n",
              "       [1., 0.],\n",
              "       [1., 0.],\n",
              "       [0., 1.],\n",
              "       [0., 1.],\n",
              "       [1., 0.],\n",
              "       [1., 0.],\n",
              "       [1., 0.],\n",
              "       [1., 0.],\n",
              "       [0., 1.],\n",
              "       [1., 0.],\n",
              "       [1., 0.],\n",
              "       [0., 1.],\n",
              "       [1., 0.],\n",
              "       [0., 1.],\n",
              "       [0., 1.],\n",
              "       [0., 1.],\n",
              "       [0., 1.],\n",
              "       [1., 0.],\n",
              "       [0., 1.],\n",
              "       [0., 1.],\n",
              "       [1., 0.],\n",
              "       [0., 1.],\n",
              "       [0., 1.],\n",
              "       [0., 1.],\n",
              "       [0., 1.],\n",
              "       [1., 0.],\n",
              "       [0., 1.],\n",
              "       [0., 1.],\n",
              "       [0., 1.],\n",
              "       [0., 1.],\n",
              "       [0., 1.],\n",
              "       [0., 1.],\n",
              "       [1., 0.],\n",
              "       [1., 0.],\n",
              "       [1., 0.],\n",
              "       [0., 1.],\n",
              "       [0., 1.],\n",
              "       [1., 0.],\n",
              "       [0., 1.],\n",
              "       [1., 0.],\n",
              "       [1., 0.],\n",
              "       [0., 1.],\n",
              "       [0., 1.],\n",
              "       [0., 1.],\n",
              "       [1., 0.],\n",
              "       [0., 1.],\n",
              "       [1., 0.],\n",
              "       [0., 1.],\n",
              "       [1., 0.],\n",
              "       [1., 0.],\n",
              "       [0., 1.],\n",
              "       [0., 1.],\n",
              "       [1., 0.],\n",
              "       [0., 1.],\n",
              "       [0., 1.],\n",
              "       [0., 1.],\n",
              "       [1., 0.],\n",
              "       [1., 0.],\n",
              "       [1., 0.],\n",
              "       [0., 1.],\n",
              "       [0., 1.],\n",
              "       [0., 1.],\n",
              "       [1., 0.],\n",
              "       [0., 1.],\n",
              "       [1., 0.],\n",
              "       [0., 1.],\n",
              "       [1., 0.],\n",
              "       [0., 1.],\n",
              "       [0., 1.],\n",
              "       [1., 0.],\n",
              "       [0., 1.],\n",
              "       [0., 1.],\n",
              "       [1., 0.]], dtype=float32)"
            ]
          },
          "metadata": {},
          "execution_count": 165
        }
      ]
    },
    {
      "cell_type": "code",
      "source": [
        "y_pred = np.array(y_pred)"
      ],
      "metadata": {
        "id": "KJHGB6hepF1z"
      },
      "execution_count": null,
      "outputs": []
    },
    {
      "cell_type": "code",
      "source": [],
      "metadata": {
        "id": "-7L-nizlpmT_"
      },
      "execution_count": null,
      "outputs": []
    }
  ],
  "metadata": {
    "kernelspec": {
      "display_name": "Python 3",
      "name": "python3"
    },
    "language_info": {
      "codemirror_mode": {
        "name": "ipython",
        "version": 3
      },
      "file_extension": ".py",
      "mimetype": "text/x-python",
      "name": "python",
      "nbconvert_exporter": "python",
      "pygments_lexer": "ipython3",
      "version": "3.11.3"
    },
    "orig_nbformat": 4,
    "colab": {
      "provenance": [],
      "gpuType": "T4"
    },
    "accelerator": "GPU"
  },
  "nbformat": 4,
  "nbformat_minor": 0
}